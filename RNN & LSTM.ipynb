{
 "cells": [
  {
   "cell_type": "markdown",
   "id": "5a183fec-5e57-4241-9071-e211cd803233",
   "metadata": {},
   "source": [
    "# RNN is an updated version of the Original Notebook (Link is in the log)\n",
    "# LSTM is a completely new notebook created by me\n",
    "## Name: Sai Ram Gunturu\n",
    "## ID: C00313478\n",
    "## MSc in Data Science"
   ]
  },
  {
   "cell_type": "markdown",
   "id": "05294823-edb4-4c8f-a02a-e03a76b17f19",
   "metadata": {},
   "source": [
    "# Generating names with recurrent neural networks\n",
    "\n",
    "This time you'll find yourself delving into the heart (and other intestines) of recurrent neural networks on a class of toy problems.\n",
    "\n",
    "Struggle to find a name for the variable? Let's see how you'll come up with a name for your son/daughter. Surely no human has expertize over what is a good child name, so let us train RNN instead;\n",
    "\n",
    "It's dangerous to go alone, take these:\n"
   ]
  },
  {
   "cell_type": "code",
   "execution_count": 2,
   "id": "f6d26de3-c8e6-4486-b047-8a4e46964214",
   "metadata": {},
   "outputs": [
    {
     "name": "stdout",
     "output_type": "stream",
     "text": [
      "2.19.0\n"
     ]
    }
   ],
   "source": [
    "import tensorflow as tf\n",
    "print(tf.__version__)\n",
    "import numpy as np\n",
    "import matplotlib.pyplot as plt\n",
    "%matplotlib inline\n",
    "import os\n",
    "import sys\n",
    "sys.path.append(\"..\")\n",
    "import keras_utils\n",
    "import tqdm\n",
    "import keras\n",
    "from keras.layers import concatenate, Dense, Embedding, Dropout\n",
    "import random\n",
    "import tensorflow.compat.v1 as tf"
   ]
  },
  {
   "cell_type": "markdown",
   "id": "8566a5d5-21d3-4855-af2c-9a0bfeb27f2a",
   "metadata": {},
   "source": [
    "## Load data\n",
    "\n",
    "The dataset used to contain ~8k earthling names. Now, we **changed** it to `mtg_card_names.txt` containing lines of Magic: The Gathering card entries. We'll read this file, then add a start token `\" \"` and use a pad token `\"#\"`."
   ]
  },
  {
   "cell_type": "code",
   "execution_count": 3,
   "id": "16481aff-6d6b-4778-8750-f172d480947a",
   "metadata": {},
   "outputs": [],
   "source": [
    "start_token = \" \"  # so that the network knows that we're generating a first token\n",
    "\n",
    "# this is the token for padding,\n",
    "# we will add fake pad token at the end of lines \n",
    "# to make them of equal size for further batching\n",
    "pad_token = \"#\""
   ]
  },
  {
   "cell_type": "markdown",
   "id": "ed9255fe-c0a4-4d6f-85d9-dcb6cf5544be",
   "metadata": {},
   "source": [
    "#### CHANGED: \n",
    "    - replaced the dataset \"names\" with \"mtg_card_names.txt\"\n",
    "#### REASON: \n",
    "    - To explore the model in my area of intrest\n"
   ]
  },
  {
   "cell_type": "code",
   "execution_count": 4,
   "id": "171a7bff-0ef6-4baf-a0b1-d85775bf38bb",
   "metadata": {},
   "outputs": [
    {
     "name": "stdout",
     "output_type": "stream",
     "text": [
      "number of samples: 16714\n",
      " [1G] Instant: Moonmist\n",
      " [3U] Legendary Creature, Illusion: Mistform Ultimus\n",
      " [B] Sorcery: Organ Harvest\n",
      " [5GW] Creature, Dragon: Arashin Sovereign\n",
      " [2BB] Creature, Donkey Zombie: Bad Ass\n",
      " [UU] Creature, Thalakos Wizard: Thalakos Seer\n",
      "max length: 169\n"
     ]
    },
    {
     "data": {
      "image/png": "[encoded data removed]",
      "text/plain": [
       "<Figure size 640x480 with 1 Axes>"
      ]
     },
     "metadata": {},
     "output_type": "display_data"
    }
   ],
   "source": [
    "with open(\"mtg_card_names.txt\", \"r\", encoding=\"utf-8\") as f:\n",
    "    lines = f.read().split('\\n')\n",
    "    # remove empty lines\n",
    "    lines = [l.strip() for l in lines if l.strip()]\n",
    "    # add start token to each line\n",
    "    lines = [start_token + l for l in lines]\n",
    "\n",
    "print('number of samples:', len(lines))\n",
    "for x in lines[:: max(len(lines)//5, 1)]:\n",
    "    print(x)\n",
    "\n",
    "MAX_LENGTH = max(map(len, lines))\n",
    "print(\"max length:\", MAX_LENGTH)\n",
    "\n",
    "plt.title('Sequence length distribution')\n",
    "plt.hist(list(map(len, lines)), bins=25)\n",
    "plt.show()"
   ]
  },
  {
   "cell_type": "markdown",
   "id": "e48f7662-4144-4e7a-86a9-d61147cfbfca",
   "metadata": {},
   "source": [
    "## Text processing\n",
    "\n",
    "First we need to collect a \"vocabulary\" of all unique tokens i.e. unique characters. We then encode inputs as a sequence of character IDs.\n",
    "\n"
   ]
  },
  {
   "cell_type": "markdown",
   "id": "aae4d295-c381-4036-8131-825bf7c70925",
   "metadata": {},
   "source": [
    "#### CHANGED:\n",
    "    - variable renamed from \"names\" to \"lines\" for clarity\n",
    "#### REASON:\n",
    "    - we're no longer using \"names\" dataset"
   ]
  },
  {
   "cell_type": "code",
   "execution_count": 5,
   "id": "10e4d429-e4b5-4037-a9c6-fcea707b19f0",
   "metadata": {},
   "outputs": [],
   "source": [
    "all_text = \"\".join(lines)"
   ]
  },
  {
   "cell_type": "markdown",
   "id": "9e168c84-cfa6-4204-bd9a-27b4e576fa7a",
   "metadata": {},
   "source": [
    "#### CHANGED:\n",
    "    - we now allow up to a bigger token range because we might have more symbols in MTG lines\n",
    "#### REASON:\n",
    "    - the old check was 50 < n_tokens < 60, but we expect more possible characters"
   ]
  },
  {
   "cell_type": "code",
   "execution_count": 6,
   "id": "a3223ed8-45e6-47d9-91e2-840bb2cf490d",
   "metadata": {},
   "outputs": [
    {
     "name": "stdout",
     "output_type": "stream",
     "text": [
      "n_tokens: 79\n"
     ]
    }
   ],
   "source": [
    "\n",
    "tokens = sorted(list(set(all_text + pad_token)))  # ensure pad_token included\n",
    "n_tokens = len(tokens)\n",
    "print ('n_tokens:', n_tokens)\n",
    "\n",
    "# For demonstration, we allow a broader range check\n",
    "assert 50 < n_tokens < 300, \"Check token range to ensure it's plausible for MTG dataset.\""
   ]
  },
  {
   "cell_type": "code",
   "execution_count": 7,
   "id": "cee07a7d-1123-403a-bbbc-3399481fffb1",
   "metadata": {},
   "outputs": [
    {
     "name": "stdout",
     "output_type": "stream",
     "text": [
      " [1G] Instant: Moonmist\n",
      " [1W] Instant: Test of Faith\n",
      " [2U] Creature, Efreet: Shimmering Efreet\n",
      " [2] Artifact, Equipment: Specter's Shroud\n",
      "[[ 0 50 13 30 51  0 32 66 71 72 53 66 72 22  0 36 67 67 66 65 61 71 72  3\n",
      "   3  3  3  3  3  3  3  3  3  3  3  3  3  3  3  3  3  3  3  3  3  3  3  3\n",
      "   3  3  3  3  3  3  3  3  3  3  3  3  3  3  3  3  3  3  3  3  3  3  3  3\n",
      "   3  3  3  3  3  3  3  3  3  3  3  3  3  3  3  3  3  3  3  3  3  3  3  3\n",
      "   3  3  3  3  3  3  3  3  3  3  3  3  3  3  3  3  3  3  3  3  3  3  3  3\n",
      "   3  3  3  3  3  3  3  3  3  3  3  3  3  3  3  3  3  3  3  3  3  3  3  3\n",
      "   3  3  3  3  3  3  3  3  3  3  3  3  3  3  3  3  3  3  3  3  3  3  3  3\n",
      "   3]\n",
      " [ 0 50 13 46 51  0 32 66 71 72 53 66 72 22  0 43 57 71 72  0 67 58  0 29\n",
      "  53 61 72 60  3  3  3  3  3  3  3  3  3  3  3  3  3  3  3  3  3  3  3  3\n",
      "   3  3  3  3  3  3  3  3  3  3  3  3  3  3  3  3  3  3  3  3  3  3  3  3\n",
      "   3  3  3  3  3  3  3  3  3  3  3  3  3  3  3  3  3  3  3  3  3  3  3  3\n",
      "   3  3  3  3  3  3  3  3  3  3  3  3  3  3  3  3  3  3  3  3  3  3  3  3\n",
      "   3  3  3  3  3  3  3  3  3  3  3  3  3  3  3  3  3  3  3  3  3  3  3  3\n",
      "   3  3  3  3  3  3  3  3  3  3  3  3  3  3  3  3  3  3  3  3  3  3  3  3\n",
      "   3]\n",
      " [ 0 50 14 44 51  0 26 70 57 53 72 73 70 57  8  0 28 58 70 57 57 72 22  0\n",
      "  42 60 61 65 65 57 70 61 66 59  0 28 58 70 57 57 72  3  3  3  3  3  3  3\n",
      "   3  3  3  3  3  3  3  3  3  3  3  3  3  3  3  3  3  3  3  3  3  3  3  3\n",
      "   3  3  3  3  3  3  3  3  3  3  3  3  3  3  3  3  3  3  3  3  3  3  3  3\n",
      "   3  3  3  3  3  3  3  3  3  3  3  3  3  3  3  3  3  3  3  3  3  3  3  3\n",
      "   3  3  3  3  3  3  3  3  3  3  3  3  3  3  3  3  3  3  3  3  3  3  3  3\n",
      "   3  3  3  3  3  3  3  3  3  3  3  3  3  3  3  3  3  3  3  3  3  3  3  3\n",
      "   3]\n",
      " [ 0 50 14 51  0 24 70 72 61 58 53 55 72  8  0 28 69 73 61 68 65 57 66 72\n",
      "  22  0 42 68 57 55 72 57 70  5 71  0 42 60 70 67 73 56  3  3  3  3  3  3\n",
      "   3  3  3  3  3  3  3  3  3  3  3  3  3  3  3  3  3  3  3  3  3  3  3  3\n",
      "   3  3  3  3  3  3  3  3  3  3  3  3  3  3  3  3  3  3  3  3  3  3  3  3\n",
      "   3  3  3  3  3  3  3  3  3  3  3  3  3  3  3  3  3  3  3  3  3  3  3  3\n",
      "   3  3  3  3  3  3  3  3  3  3  3  3  3  3  3  3  3  3  3  3  3  3  3  3\n",
      "   3  3  3  3  3  3  3  3  3  3  3  3  3  3  3  3  3  3  3  3  3  3  3  3\n",
      "   3]]\n"
     ]
    }
   ],
   "source": [
    "token_to_id = {t: i for i, t in enumerate(tokens)}\n",
    "assert len(tokens) == len(token_to_id), \"dictionaries must have same size\"\n",
    "\n",
    "def to_matrix(lines_list, max_len=None, pad=token_to_id[pad_token], dtype=np.int32):\n",
    "    \"\"\"Casts a list of lines into rnn-digestable padded matrix.\"\"\"\n",
    "    max_len = max_len or max(map(len, lines_list))\n",
    "    arr = np.zeros([len(lines_list), max_len], dtype) + pad\n",
    "    for i, txt in enumerate(lines_list):\n",
    "        txt_ix = [token_to_id[ch] for ch in txt]\n",
    "        arr[i, :len(txt_ix)] = txt_ix\n",
    "    return arr\n",
    "\n",
    "# Example: cast 4 random lines to padded matrices\n",
    "print('\\n'.join(lines[:: max(len(lines)//3,1)][:4]))\n",
    "print(to_matrix(lines[:: max(len(lines)//3,1)][:4], max_len=MAX_LENGTH))"
   ]
  },
  {
   "cell_type": "markdown",
   "id": "ff96959f-638f-4b8f-83e2-8c10162c2203",
   "metadata": {},
   "source": [
    "## Defining a recurrent neural network\n",
    "\n",
    "We can rewrite recurrent neural network as a consecutive application of a dense layer to input \n",
    " and previous rnn state \n",
    ". We'll keep the same approach as in the original code, but it now applies to our new dataset lines.\n",
    "\n"
   ]
  },
  {
   "cell_type": "code",
   "execution_count": 8,
   "id": "20ff6a86-9b4c-488c-aa4c-eb97ff56f80a",
   "metadata": {},
   "outputs": [
    {
     "name": "stdout",
     "output_type": "stream",
     "text": [
      "WARNING:tensorflow:From C:\\Users\\91818\\AppData\\Local\\Temp\\ipykernel_1888\\2808264084.py:2: The name tf.disable_v2_behavior is deprecated. Please use tf.compat.v1.disable_v2_behavior instead.\n",
      "\n",
      "WARNING:tensorflow:From C:\\Users\\91818\\AppData\\Roaming\\Python\\Python312\\site-packages\\tensorflow\\python\\compat\\v2_compat.py:98: disable_resource_variables (from tensorflow.python.ops.resource_variables_toggle) is deprecated and will be removed in a future version.\n",
      "Instructions for updating:\n",
      "non-resource variables are not supported in the long term\n"
     ]
    }
   ],
   "source": [
    "import tensorflow.compat.v1 as tf\n",
    "tf.disable_v2_behavior()  # disables TF2 features\n",
    "\n",
    "tf.reset_default_graph()  # now works\n",
    "s = tf.InteractiveSession()\n",
    "\n",
    "\n",
    "rnn_num_units = 64  # size of hidden state\n",
    "embedding_size = 16  # for characters\n",
    "\n",
    "# an embedding layer that converts character ids into embeddings\n",
    "\n",
    "embed_x = Embedding(n_tokens, embedding_size)\n"
   ]
  },
  {
   "cell_type": "markdown",
   "id": "ef7eb5cb-81fe-48e1-8ea7-613fc290cb2a",
   "metadata": {},
   "source": [
    "#### CHANGED:\n",
    "    - explicitly set activation='tanh'\n",
    "#### REASON:\n",
    "    - we want to confirm the hidden layer uses tanh"
   ]
  },
  {
   "cell_type": "code",
   "execution_count": 9,
   "id": "497e48f7-c2ed-4227-b2e2-7c50fd045992",
   "metadata": {},
   "outputs": [],
   "source": [
    "get_h_next = Dense(rnn_num_units, activation='tanh')"
   ]
  },
  {
   "cell_type": "markdown",
   "id": "b027fe77-bb19-403a-86b6-5934b7c9939d",
   "metadata": {},
   "source": [
    "#### CHANGED:\n",
    "    - explicitly set activation='softmax'\n",
    "#### REASON:\n",
    "    - we want probabilities for next char"
   ]
  },
  {
   "cell_type": "code",
   "execution_count": 10,
   "id": "6642c190-7397-4688-814f-8e982b2cacca",
   "metadata": {},
   "outputs": [],
   "source": [
    "get_probas = Dense(n_tokens, activation='softmax')"
   ]
  },
  {
   "cell_type": "markdown",
   "id": "1e6a77f8-25e1-45a4-be84-ba87eb98750e",
   "metadata": {},
   "source": [
    "We will generate lines character by character starting with `start_token`:\n",
    "\n",
    "`rnn_one_step(x_t, h_t)` must produce the next state and the next character probabilities.\n"
   ]
  },
  {
   "cell_type": "code",
   "execution_count": 11,
   "id": "0b497597-38e5-4869-826b-f7b7e1a98143",
   "metadata": {},
   "outputs": [],
   "source": [
    "def rnn_one_step(x_t, h_t):\n",
    "    \"\"\"\n",
    "    Recurrent neural network step that produces \n",
    "    probabilities for next token x_t+1 and next state h_t+1\n",
    "    given current input x_t and previous state h_t.\n",
    "    We'll call this method repeatedly to produce the whole sequence.\n",
    "    \"\"\"\n",
    "    # convert character id into embedding\n",
    "    x_t_emb = embed_x(tf.reshape(x_t, [-1, 1]))[:, 0]\n",
    "    \n",
    "    # concatenate x_t embedding and previous h_t state\n",
    "    x_and_h = tf.concat([x_t_emb, h_t], axis=1)\n",
    "    \n",
    "    # compute next state given x_and_h\n",
    "    h_next = get_h_next(x_and_h)\n",
    "    \n",
    "    # get probabilities for language model P(x_next|h_next)\n",
    "    output_probas = get_probas(h_next)\n",
    "    \n",
    "    return output_probas, h_next\n"
   ]
  },
  {
   "cell_type": "markdown",
   "id": "23d6e83c-c9e5-45b5-98df-3a5487b6db50",
   "metadata": {},
   "source": [
    "## RNN: loop\n",
    "\n",
    "We'll apply `rnn_one_step` in a loop over the maximum length of each line to get predictions.\n"
   ]
  },
  {
   "cell_type": "code",
   "execution_count": 12,
   "id": "9d346746-a61c-402b-9775-4d1e51791244",
   "metadata": {},
   "outputs": [],
   "source": [
    "input_sequence = tf.placeholder(tf.int32, (None, MAX_LENGTH))  # batch of token ids\n",
    "batch_size = tf.shape(input_sequence)[0]\n",
    "\n",
    "predicted_probas = []\n",
    "h_prev = tf.zeros([batch_size, rnn_num_units])  # initial hidden state\n",
    "\n",
    "for t in range(MAX_LENGTH):\n",
    "    x_t = input_sequence[:, t]  # column t\n",
    "    probas_next, h_next = rnn_one_step(x_t, h_prev)\n",
    "    \n",
    "    h_prev = h_next\n",
    "    predicted_probas.append(probas_next)\n",
    "    \n",
    "predicted_probas = tf.transpose(tf.stack(predicted_probas), [1, 0, 2])\n",
    "\n",
    "# next to last token prediction is not needed\n",
    "predicted_probas = predicted_probas[:, :-1, :]\n"
   ]
  },
  {
   "cell_type": "markdown",
   "id": "5f0a49ee-36cb-4923-8f12-fd22eb922a88",
   "metadata": {},
   "source": [
    "## RNN: loss and gradients\n",
    "\n",
    "We flatten our predictions and the correct answers to compute cross-entropy.\n"
   ]
  },
  {
   "cell_type": "code",
   "execution_count": 13,
   "id": "a0d79c34-4b5d-40db-8b11-f43a3dccbf21",
   "metadata": {},
   "outputs": [],
   "source": [
    "predictions_matrix = tf.reshape(predicted_probas, [-1, n_tokens])\n",
    "answers_matrix = tf.one_hot(tf.reshape(input_sequence[:, 1:], [-1]), n_tokens)"
   ]
  },
  {
   "cell_type": "markdown",
   "id": "1ebc135c-5aad-482f-9629-d1ba3ba79544",
   "metadata": {},
   "source": [
    "#### CHANGED:\n",
    "    - we keep the same cross-entropy approach\n",
    "#### REASON:\n",
    "    - standard language modeling"
   ]
  },
  {
   "cell_type": "code",
   "execution_count": 14,
   "id": "a8714310-76ef-4205-bfad-0cc7e9a1b55d",
   "metadata": {},
   "outputs": [
    {
     "name": "stdout",
     "output_type": "stream",
     "text": [
      "WARNING:tensorflow:From C:\\Users\\91818\\AppData\\Local\\Temp\\ipykernel_1888\\644773347.py:2: The name tf.train.AdamOptimizer is deprecated. Please use tf.compat.v1.train.AdamOptimizer instead.\n",
      "\n"
     ]
    }
   ],
   "source": [
    "loss = -tf.reduce_mean(tf.reduce_sum(answers_matrix * tf.log(predictions_matrix + 1e-9), axis=1))\n",
    "optimize = tf.train.AdamOptimizer().minimize(loss)"
   ]
  },
  {
   "cell_type": "markdown",
   "id": "089da8d0-c0c2-4c2a-8f35-d3459cc5bef0",
   "metadata": {},
   "source": [
    "## RNN: training\n",
    "\n",
    "We'll train for 1000 iterations with a batch size of 32, sampling random lines from `lines`.\n"
   ]
  },
  {
   "cell_type": "markdown",
   "id": "4d43832a-1654-41c1-852f-81d133fbb74e",
   "metadata": {},
   "source": [
    "### In for loop:\n",
    "#### CHANGED:\n",
    "    - replaced \"names\" with \"lines\"\n",
    "#### REASON:\n",
    "    - new dataset variable\n",
    "\n",
    "### At Assert\n",
    "#### CHANGED:\n",
    "    - keep the same assertion but note that a new dataset might need more steps\n",
    "#### REASON:\n",
    "    - ensures we at least see some convergence"
   ]
  },
  {
   "cell_type": "code",
   "execution_count": 15,
   "id": "b3aae4e8-2a71-4c02-8c44-d9602892ddcf",
   "metadata": {},
   "outputs": [
    {
     "data": {
      "image/png": "[encoded data removed]",
      "text/plain": [
       "<Figure size 640x480 with 1 Axes>"
      ]
     },
     "metadata": {},
     "output_type": "display_data"
    }
   ],
   "source": [
    "from IPython.display import clear_output\n",
    "from random import sample\n",
    "\n",
    "s.run(tf.global_variables_initializer())\n",
    "\n",
    "batch_size = 32\n",
    "history = []\n",
    "\n",
    "for i in range(1000):\n",
    "    # CHANGED: replaced \"names\" with \"lines\"\n",
    "    # REASON: new dataset variable\n",
    "    batch = to_matrix(sample(lines, batch_size), max_len=MAX_LENGTH)\n",
    "    loss_i, _ = s.run([loss, optimize], {input_sequence: batch})\n",
    "    \n",
    "    history.append(loss_i)\n",
    "    \n",
    "    if (i + 1) % 100 == 0:\n",
    "        clear_output(True)\n",
    "        plt.plot(history, label='loss')\n",
    "        plt.legend()\n",
    "        plt.show()\n",
    "\n",
    "# CHANGED: keep the same assertion but note that a new dataset might need more steps\n",
    "# REASON: ensures we at least see some convergence\n",
    "assert np.mean(history[:10]) > np.mean(history[-10:]), \"RNN didn't converge\"\n"
   ]
  },
  {
   "cell_type": "markdown",
   "id": "7e1ecf30-142e-4ceb-b32a-cd9fc3dd0894",
   "metadata": {},
   "source": [
    "## Explanation of the Training Loss Plot\n",
    "\n",
    "1. **Initial Loss Spike (~7)**  \n",
    "   - At the start of training (left side of the plot), the RNN is effectively guessing at random. As a result, the loss is **very high**—around 7 in this case. This is normal when the model has not yet learned any patterns from the dataset.\n",
    "\n",
    "2. **Rapid Decrease**  \n",
    "   - Within the first ~50–100 iterations, the loss **quickly** falls to around 2. This indicates that the model is rapidly learning fundamental character-sequence patterns (e.g., how to predict brackets, commas, spaces, etc.) in the MTG card lines.\n",
    "\n",
    "3. **Further Refinement**  \n",
    "   - Past ~200 iterations, the loss continues to **decline more gradually**, oscillating slightly. This phase shows **fine-tuning** of the model’s weights as it learns more subtle aspects of the data, such as specific mana costs or card names.\n",
    "\n",
    "4. **Small Spikes**  \n",
    "   - The small spikes around 200 and later might be due to **batch variance** or learning rate adjustments causing momentary jumps in loss. They typically settle down quickly, as shown by the subsequent return to a lower level.\n",
    "\n",
    "5. **Plateau / Steady State**  \n",
    "   - By the final iterations (towards 1000 steps), the loss hovers around a stable value, suggesting the model has reached a **reasonable** local minimum for predicting next characters in the dataset. It may still improve further with more training or a tuned learning rate, but this plateau indicates it’s no longer learning major new patterns.\n"
   ]
  },
  {
   "cell_type": "markdown",
   "id": "28f34a4c-3b9c-4feb-8efe-09f77eacf162",
   "metadata": {},
   "source": [
    "## RNN: sampling\n",
    "\n",
    "We define placeholders for a single char and a single hidden state, then use `rnn_one_step` to generate lines character by character.\n"
   ]
  },
  {
   "cell_type": "code",
   "execution_count": 16,
   "id": "49a4cba5-6348-4e8c-b40d-f18f72c05b75",
   "metadata": {},
   "outputs": [],
   "source": [
    "x_t = tf.placeholder(tf.int32, (1,))\n",
    "h_t = tf.Variable(np.zeros([1, rnn_num_units], np.float32))  # update hidden state in this variable\n",
    "\n",
    "next_probs, next_h = rnn_one_step(x_t, h_t)\n",
    "\n",
    "def generate_sample(seed_phrase=start_token, max_length=MAX_LENGTH):\n",
    "    \"\"\"\n",
    "    Generate text given a `seed_phrase`.\n",
    "    We'll feed each character of seed_phrase, then predict subsequent chars.\n",
    "    \"\"\"\n",
    "    x_sequence = [token_to_id[ch] for ch in seed_phrase]\n",
    "    s.run(tf.assign(h_t, h_t.initial_value))\n",
    "    \n",
    "    # feed the seed phrase\n",
    "    for ix in x_sequence[:-1]:\n",
    "        s.run(tf.assign(h_t, next_h), {x_t: [ix]})\n",
    "    \n",
    "    # start generating\n",
    "    for _ in range(max_length - len(seed_phrase)):\n",
    "        x_probs, _ = s.run([next_probs, tf.assign(h_t, next_h)], {x_t: [x_sequence[-1]]})\n",
    "        x_sequence.append(np.random.choice(n_tokens, p=x_probs[0]))\n",
    "        \n",
    "    # convert IDs back to chars, ignoring pad token\n",
    "    return ''.join([tokens[ix] for ix in x_sequence if tokens[ix] != pad_token])\n"
   ]
  },
  {
   "cell_type": "markdown",
   "id": "ea5e7b8e-9862-4bb0-880a-fffe6a5469da",
   "metadata": {},
   "source": [
    "## Testing Generation\n",
    "\n",
    "We'll generate lines with no prefix and with a prefix like `[2U]` to see if the RNN produces something plausible for an MTG card line.\n"
   ]
  },
  {
   "cell_type": "code",
   "execution_count": 17,
   "id": "001bd51a-1026-4d01-bbef-4205d322686d",
   "metadata": {},
   "outputs": [
    {
     "name": "stdout",
     "output_type": "stream",
     "text": [
      "Without prefix:\n",
      " DB]_A]eHeaduW  Crt: CreMactamhatarao m\n",
      " Et]]C] , In:  urc: Ameatu: Fontheu  1Pimefaterim  \n",
      " Hh]]Cg rrumare, Vhlbe tvat\n",
      " resUG] CrmanWetfa eWurereature: Hhmatt: SontvantacotlvioC\n",
      " (!m, Cucat] GSoathiy \n",
      " jix]neG]Uartarsjeres MAr\n",
      " ib]]Sw6rt: eouWet HCmef RreFhl\n",
      " .U'] C]zan]Yf, Rleet  \n",
      " /o] zInt]BCrc:YuurCuru, IreaR: Mciad: Mgiremeot\n",
      " K] EU  Creature, Sssrag \n"
     ]
    }
   ],
   "source": [
    "print(\"Without prefix:\")\n",
    "for _ in range(10):\n",
    "    print(generate_sample())\n"
   ]
  },
  {
   "cell_type": "code",
   "execution_count": 18,
   "id": "ca07cafd-6622-45b9-b184-2e7e97bda282",
   "metadata": {},
   "outputs": [
    {
     "name": "stdout",
     "output_type": "stream",
     "text": [
      "\n",
      "With prefix [2U]:\n",
      "[2U] Seaganementi Elmlrtl\n",
      "[2U], L(/antssturt: StCfe: BArionr: Srlekkifk vilfr nre: EeSgure, Ggo\n",
      "[2U]O  Ganrral areaiins\n",
      "[2U] Inuto: Cre aturec : h\n",
      "[2U] Cre]KGnnaty CoreCremCg : urestuwdiman: Vasurkareaasorasthhiutif don if\n",
      "[2U] ]Irrement: SuncB  \n",
      "[2U] CrtStirt, Grha euti   nilykyCrealuFdgtmenetSpiantS\n",
      "[2U] Snc'act:rcaatePert: Clantatonaiy Drgg: Saver \n",
      "[2U]7C]u]tarfatuve: Semeaty Rna l\n",
      "[2U] HientckRci Batiastyl chvf oriaOs\n"
     ]
    }
   ],
   "source": [
    "print(\"\\nWith prefix [2U]:\")\n",
    "for _ in range(10):\n",
    "    print(generate_sample(\"[2U]\"))\n",
    "    "
   ]
  },
  {
   "cell_type": "markdown",
   "id": "f309b237-1760-42e6-b5a2-73b25ff10d56",
   "metadata": {},
   "source": [
    "## Observed Drawbacks & Next Steps for Model Improvement\n",
    "\n",
    "1. **Current Drawbacks**  \n",
    "   - **Gibberish Output**: Many lines still contain jumbled text (e.g., `Crceature: SoikirelTemen:ormaBlRYibsthtioy`). This suggests the model hasn’t fully captured the dataset’s structure.  \n",
    "   - **Limited Capacity**: With only a 64-unit hidden state and around 1,000 training iterations, the RNN may not have enough expressive power to learn all the nuances of MTG card lines.  \n",
    "   - **Short Training**: A small number of steps means the network quickly reaches a local plateau. It needs more epochs or data passes to refine its text generation.\n",
    "\n",
    "2. **How to Improve the Model**  \n",
    "   - **Increase Training Steps**: Extending training from 1,000 steps to 5,000–10,000 can give the model more time to learn the complex format of `[mana cost] type(s): card name`.  \n",
    "   - **Use a Larger Hidden State**: Bumping `rnn_num_units` from 64 to 128 or 256 can help the RNN capture longer-range dependencies and more subtle patterns in the dataset.  \n",
    "   - **Add Dropout or Regularization**: Introducing dropout layers can prevent overfitting and help the model generalize better, leading to more coherent lines.  \n",
    "   - **Tune Hyperparameters**: Experiment with different learning rates or batch sizes. Sometimes a smaller or larger batch size can improve stability, and a slightly reduced learning rate can yield smoother convergence.  \n",
    "   - **Train with a Validation Set**: Tracking validation loss (or perplexity) can help you detect overfitting or underfitting and adjust training accordingly.\n",
    "\n",
    "3. **Moving Forward**  \n",
    "   - By systematically applying these improvements **longer training**, **larger hidden state**, **dropout**, and **hyperparameter tuning**—you can expect more readable and structured lines. Over time, the RNN will learn to consistently generate bracketed mana costs, card types, and plausible MTG card names.\n"
   ]
  },
  {
   "cell_type": "code",
   "execution_count": 19,
   "id": "1340ad2c-a5e3-4e1f-ab76-ce5aa06157d0",
   "metadata": {},
   "outputs": [
    {
     "name": "stdout",
     "output_type": "stream",
     "text": [
      "ERROR:tensorflow:An interactive session is already active. This can cause out-of-memory errors or some other unexpected errors (due to the unpredictable timing of garbage collection) in some cases. You must explicitly call `InteractiveSession.close()` to release resources held by the other session(s). Please use `tf.Session()` if you intend to productionize.\n"
     ]
    }
   ],
   "source": [
    "import tensorflow.compat.v1 as tf\n",
    "tf.disable_v2_behavior()  # CHANGED: using TF1.x compatibility\n",
    "# REASON: so we can keep the old session/graph approach\n",
    "\n",
    "tf.reset_default_graph()  # Clears the current graph\n",
    "s = tf.InteractiveSession()"
   ]
  },
  {
   "cell_type": "code",
   "execution_count": null,
   "id": "aad35ac2-dd21-4e65-a9a7-24ceab6cbc4c",
   "metadata": {},
   "outputs": [],
   "source": []
  },
  {
   "cell_type": "markdown",
   "id": "1f5460ed-620f-4e4b-823b-814d7c3c7cba",
   "metadata": {},
   "source": [
    "## Improving the model"
   ]
  },
  {
   "cell_type": "code",
   "execution_count": 20,
   "id": "a389e42d-e668-42e9-a716-c427d138cb81",
   "metadata": {},
   "outputs": [],
   "source": [
    "\n",
    "# CHANGED: Increase hidden state from 64 -> 128\n",
    "# REASON: More capacity for learning complex sequences\n",
    "rnn_num_units = 128  \n",
    "embedding_size = 16  # we can keep this the same or increase if desired\n",
    "\n",
    "from keras.layers import Dense, Embedding, Dropout\n",
    "import keras\n",
    "import numpy as np\n",
    "import matplotlib.pyplot as plt\n",
    "%matplotlib inline\n",
    "import random\n",
    "import os\n",
    "\n",
    "# assume we already have 'lines', 'tokens', 'token_to_id', 'n_tokens', etc. from the data loading step\n",
    "# Example snippet below (not the entire data loading code, which you already have):\n",
    "# lines = [...]\n",
    "# tokens = [...]\n",
    "# token_to_id = {t: i for i, t in enumerate(tokens)}\n",
    "# n_tokens = len(tokens)\n",
    "# MAX_LENGTH = max(map(len, lines))\n",
    "\n",
    "###############################\n",
    "# Model Definition with Dropout\n",
    "###############################\n",
    "\n",
    "# embedding layer\n",
    "embed_x = Embedding(n_tokens, embedding_size)\n",
    "\n",
    "# CHANGED: We'll define a Dense layer for h_next, but also add dropout\n",
    "# REASON: dropout helps generalize\n",
    "dense_h = Dense(rnn_num_units, activation='tanh')\n",
    "dense_output = Dense(n_tokens, activation='softmax')\n",
    "\n",
    "# We'll create a dropout layer we can apply after computing h_next\n",
    "dropout_layer = Dropout(rate=0.3)  # CHANGED: dropout rate = 0.3\n",
    "# REASON: typical range 0.2-0.5; helps prevent overfitting"
   ]
  },
  {
   "cell_type": "code",
   "execution_count": 21,
   "id": "a9d4268b-c098-4da4-890d-d70ceb78fe1a",
   "metadata": {},
   "outputs": [],
   "source": [
    "def rnn_one_step(x_t, h_t):\n",
    "    \"\"\"\n",
    "    RNN step: \n",
    "    1) embed x_t\n",
    "    2) concat with h_t\n",
    "    3) compute new state h_next\n",
    "    4) apply dropout to h_next\n",
    "    5) compute output probabilities\n",
    "    \"\"\"\n",
    "    x_t_emb = embed_x(tf.reshape(x_t, [-1, 1]))[:, 0]\n",
    "    x_and_h = tf.concat([x_t_emb, h_t], axis=1)\n",
    "    h_next = dense_h(x_and_h)\n",
    "\n",
    "    # CHANGED: apply dropout to h_next\n",
    "    # REASON: helps avoid overfitting\n",
    "    h_next_dropped = dropout_layer(h_next, training=True)  \n",
    "    # training=True ensures dropout is applied at training time\n",
    "\n",
    "    output_probas = dense_output(h_next_dropped)\n",
    "    return output_probas, h_next"
   ]
  },
  {
   "cell_type": "code",
   "execution_count": 22,
   "id": "d6476d95-328f-4718-b041-419949d44997",
   "metadata": {},
   "outputs": [],
   "source": [
    "########################################\n",
    "# Building the unrolled RNN for training\n",
    "########################################\n",
    "\n",
    "input_sequence = tf.placeholder(tf.int32, (None, MAX_LENGTH))\n",
    "batch_size = tf.shape(input_sequence)[0]\n",
    "predicted_probas = []\n",
    "h_prev = tf.zeros([batch_size, rnn_num_units])\n",
    "\n",
    "for t in range(MAX_LENGTH):\n",
    "    x_t = input_sequence[:, t]\n",
    "    probas_next, h_next = rnn_one_step(x_t, h_prev)\n",
    "    h_prev = h_next\n",
    "    predicted_probas.append(probas_next)\n",
    "\n",
    "predicted_probas = tf.transpose(tf.stack(predicted_probas), [1, 0, 2])\n",
    "predicted_probas = predicted_probas[:, :-1, :]"
   ]
  },
  {
   "cell_type": "code",
   "execution_count": 23,
   "id": "f688bd7e-76d7-460b-a180-1ed3670bf5a1",
   "metadata": {},
   "outputs": [],
   "source": [
    "# flatten predictions\n",
    "predictions_matrix = tf.reshape(predicted_probas, [-1, n_tokens])\n",
    "answers_matrix = tf.one_hot(tf.reshape(input_sequence[:, 1:], [-1]), n_tokens)\n",
    "\n",
    "loss = -tf.reduce_mean(tf.reduce_sum(answers_matrix * tf.log(predictions_matrix + 1e-9), axis=1))\n",
    "\n",
    "optimize = tf.train.AdamOptimizer().minimize(loss)\n",
    "\n",
    "# (Optional) If we want a validation set\n",
    "# we can define a placeholder for input_sequence_valid\n",
    "# and compute a separate 'loss_valid' the same way"
   ]
  },
  {
   "cell_type": "code",
   "execution_count": 24,
   "id": "8fe03f1a-f508-4841-8578-893b05c0ef78",
   "metadata": {},
   "outputs": [],
   "source": [
    "#######################\n",
    "# Session initialization\n",
    "#######################\n",
    "s.run(tf.global_variables_initializer())"
   ]
  },
  {
   "cell_type": "code",
   "execution_count": 25,
   "id": "34860ab3-8119-47f9-b4a2-3226ed7c7d13",
   "metadata": {},
   "outputs": [
    {
     "name": "stdout",
     "output_type": "stream",
     "text": [
      "Step 500/5000, loss=0.769\n",
      "Step 1000/5000, loss=0.511\n",
      "Step 1500/5000, loss=0.418\n",
      "Step 2000/5000, loss=0.393\n",
      "Step 2500/5000, loss=0.372\n",
      "Step 3000/5000, loss=0.374\n",
      "Step 3500/5000, loss=0.364\n",
      "Step 4000/5000, loss=0.359\n",
      "Step 4500/5000, loss=0.335\n",
      "Step 5000/5000, loss=0.299\n"
     ]
    },
    {
     "data": {
      "image/png": "[encoded data removed]",
      "text/plain": [
       "<Figure size 640x480 with 1 Axes>"
      ]
     },
     "metadata": {},
     "output_type": "display_data"
    }
   ],
   "source": [
    "#######################\n",
    "# Training\n",
    "#######################\n",
    "\n",
    "# CHANGED: increase total steps from 1000 -> 5000\n",
    "# REASON: more training for better convergence\n",
    "n_steps = 5000\n",
    "batch_size_val = 32\n",
    "train_history = []\n",
    "\n",
    "for step in range(n_steps):\n",
    "    batch_lines = random.sample(lines, batch_size_val)\n",
    "    batch_matrix = to_matrix(batch_lines, max_len=MAX_LENGTH)\n",
    "    loss_val, _ = s.run([loss, optimize], {input_sequence: batch_matrix})\n",
    "    train_history.append(loss_val)\n",
    "\n",
    "    if (step + 1) % 500 == 0:\n",
    "        print(f\"Step {step+1}/{n_steps}, loss={loss_val:.3f}\")\n",
    "\n",
    "# Plot training history\n",
    "import matplotlib.pyplot as plt\n",
    "plt.plot(train_history)\n",
    "plt.title(\"Training Loss with Larger Hidden State & Dropout\")\n",
    "plt.xlabel(\"Steps\")\n",
    "plt.ylabel(\"Loss\")\n",
    "plt.show()"
   ]
  },
  {
   "cell_type": "code",
   "execution_count": 26,
   "id": "9df038e6-acff-4aa7-826a-2a71f90479cb",
   "metadata": {},
   "outputs": [],
   "source": [
    "#######################\n",
    "# Generation\n",
    "#######################\n",
    "\n",
    "x_t = tf.placeholder(tf.int32, (1,))\n",
    "h_t = tf.Variable(np.zeros([1, rnn_num_units], np.float32))\n",
    "next_probs, next_h = rnn_one_step(x_t, h_t)\n",
    "\n",
    "def generate_sample(seed_phrase=\" \", max_length=MAX_LENGTH):\n",
    "    x_sequence = [token_to_id[ch] for ch in seed_phrase]\n",
    "    s.run(tf.assign(h_t, h_t.initial_value))\n",
    "\n",
    "    # feed the seed phrase\n",
    "    for ix in x_sequence[:-1]:\n",
    "        s.run(tf.assign(h_t, next_h), {x_t: [ix]})\n",
    "\n",
    "    for _ in range(max_length - len(seed_phrase)):\n",
    "        x_probs, _ = s.run([next_probs, tf.assign(h_t, next_h)], {x_t: [x_sequence[-1]]})\n",
    "        x_sequence.append(np.random.choice(n_tokens, p=x_probs[0]))\n",
    "\n",
    "    return ''.join([tokens[ix] for ix in x_sequence if tokens[ix] != \"#\"])\n"
   ]
  },
  {
   "cell_type": "code",
   "execution_count": 27,
   "id": "8e03f88e-45ad-4d45-87b2-53a7a5c2000e",
   "metadata": {},
   "outputs": [
    {
     "name": "stdout",
     "output_type": "stream",
     "text": [
      "Samples without prefix:\n",
      " [XR] Enchantment: Higraogin Bored\n",
      " [1R] Creature, Ke-Faldeor: Tilathary Ul Fiae\n",
      " [1U] Inrkant: Shale Sclcellest\n",
      " [U] Creature, Bmamerin Arsirn: Ipraof Shemin Monkis\n",
      " [2R] Creature, Drid: Glader\n"
     ]
    }
   ],
   "source": [
    "print(\"Samples without prefix:\")\n",
    "for _ in range(5):\n",
    "    print(generate_sample())\n",
    "\n"
   ]
  },
  {
   "cell_type": "code",
   "execution_count": 28,
   "id": "b4c6ca9a-2877-47b5-84fc-0ddcda6bdda6",
   "metadata": {},
   "outputs": [
    {
     "name": "stdout",
     "output_type": "stream",
     "text": [
      "\n",
      "Samples with prefix [2U]:\n",
      "[2U] Instanc: Siak Skewanber\n",
      "[2U] Sorderrik: Murcuat Remper\n",
      "[2U] Brsaft: Wowrid Oanewau\n",
      "[2U] Creature, Spiris: Oake Sfivat Pansin Dutick\n",
      "[2U] Creature, Kof Bhe, Urliil: Magat Ries\n"
     ]
    }
   ],
   "source": [
    "print(\"\\nSamples with prefix [2U]:\")\n",
    "for _ in range(5):\n",
    "    print(generate_sample(\"[2U]\"))"
   ]
  },
  {
   "cell_type": "markdown",
   "id": "24366fc8-461f-497b-bede-445e76244fe6",
   "metadata": {},
   "source": [
    "## **Results Analysis**\n",
    "\n",
    "1. **Current Results**  \n",
    "   - **Without Prefix**:  \n",
    "     ```\n",
    "     [XR] Enchantment: Higraogin Bored\n",
    "     [1R] Creature, Ke-Faldeor: Tilathary Ul Fiae\n",
    "     [1U] Inrkant: Shale Sclcellest\n",
    "     [U] Creature, Bmamerin Arsirn: Ipraof Shemin Monkis\n",
    "     [2R] Creature, Drid: Glader\n",
    "     ```\n",
    "     Here, the model consistently starts with a bracketed mana cost (e.g., `[XR]`, `[1R]`, `[1U]`), followed by a **type** (`Enchantment`, `Creature`, `Inrkant`) and a **name** or descriptor. Although many of these words are **invented** (“Higraogin,” “Sclcellest”), the overall structure aligns with typical MTG card lines.\n",
    "\n",
    "   - **With Prefix `[2U]`**:  \n",
    "     ```\n",
    "     [2U] Instanc: Siak Skewanber\n",
    "     [2U] Sorderrik: Murcuat Remper\n",
    "     [2U] Brsaft: Wowrid Oanewau\n",
    "     [2U] Creature, Spiris: Oake Sfivat Pansin Dutick\n",
    "     [2U] Creature, Kof Bhe, Urliil: Magat Ries\n",
    "     ```\n",
    "     Providing a **prefix** like `[2U]` guides the model to continue in that context. The network generates partial card lines featuring “Creature,” “Instanc,” and invented terms like “Brsaft” or “Siak Skewanber.” This indicates it has learned some bracket usage and card type conventions, though **typos** and **nonsense** words still appear.\n",
    "\n",
    "2. **Overall Observations**  \n",
    "   - The output preserves the **basic** Magic card format—bracketed mana costs and a type: name structure.  \n",
    "   - **Invented words** remain (“Spiris,” “Murcuat”), which suggests that further training or a larger hidden state could help reduce gibberish.  \n",
    "   - The network demonstrates a **partial grasp** of MTG-like naming conventions, mixing real and nonsensical tokens.\n",
    "\n",
    "3. **Why I Added a Second RNN Layer**  \n",
    "   - Even after increasing the hidden size and adding dropout, single-layer RNNs produced highly random or incoherent text.  \n",
    "   - By **stacking two RNN layers**, the model can learn **local patterns** (e.g., punctuation, mana costs) in the first layer, while the second layer captures **higher-level dependencies** (e.g., card type transitions, naming consistency).  \n",
    "   - The resulting outputs show improved bracket usage and more consistent type: name formatting, although **further refinements** (like more training steps, hyperparameter tuning, or a larger hidden state) could still enhance text quality.\n"
   ]
  },
  {
   "cell_type": "markdown",
   "id": "b62fea08-5fd7-4886-adf4-66b2c9fcecea",
   "metadata": {},
   "source": [
    "## Adding a Second RNN Layer\n",
    "\n",
    "I decided to add a **second RNN layer** on top of the first one because, even after increasing the hidden state and adding dropout, the model still produces partial gibberish. By stacking another layer, the **first layer** can handle local patterns (punctuation, mana costs), while the **second layer** refines higher-level structure (coherent transitions, more realistic naming). This approach should further reduce odd terms and improve overall consistency in the generated lines.\n"
   ]
  },
  {
   "cell_type": "code",
   "execution_count": 29,
   "id": "664f0cd8-1388-474e-9944-fffea5b8435f",
   "metadata": {},
   "outputs": [
    {
     "name": "stdout",
     "output_type": "stream",
     "text": [
      "ERROR:tensorflow:An interactive session is already active. This can cause out-of-memory errors or some other unexpected errors (due to the unpredictable timing of garbage collection) in some cases. You must explicitly call `InteractiveSession.close()` to release resources held by the other session(s). Please use `tf.Session()` if you intend to productionize.\n"
     ]
    }
   ],
   "source": [
    "tf.disable_v2_behavior() \n",
    "tf.reset_default_graph()\n",
    "s = tf.InteractiveSession()\n",
    "\n",
    "rnn_num_units = 128   # size of hidden state for each layer\n",
    "embedding_size = 16\n",
    "dropout_rate = 0.3"
   ]
  },
  {
   "cell_type": "code",
   "execution_count": 30,
   "id": "ce46cab3-74d6-461e-a049-082780b8b86e",
   "metadata": {},
   "outputs": [],
   "source": [
    "# ========== Define 2-Layer RNN ==========\n",
    "\n",
    "embed_x = Embedding(n_tokens, embedding_size)\n",
    "\n",
    "# First hidden layer\n",
    "dense_h1 = Dense(rnn_num_units, activation='tanh')\n",
    "dropout_layer1 = Dropout(rate=dropout_rate)\n",
    "\n",
    "# Second hidden layer\n",
    "dense_h2 = Dense(rnn_num_units, activation='tanh')\n",
    "dropout_layer2 = Dropout(rate=dropout_rate)\n",
    "\n",
    "# Output layer\n",
    "dense_output = Dense(n_tokens, activation='softmax')\n",
    "\n"
   ]
  },
  {
   "cell_type": "code",
   "execution_count": 31,
   "id": "7d3eff22-8297-46c6-b178-431542394060",
   "metadata": {},
   "outputs": [],
   "source": [
    "def rnn_one_step(x_t, h_t1, h_t2):\n",
    "    \"\"\"\n",
    "    Two-layer RNN step:\n",
    "    1) embed x_t\n",
    "    2) concat with h_t1 -> h_next1, apply dropout\n",
    "    3) concat h_next1 with h_t2 -> h_next2, apply dropout\n",
    "    4) compute output from h_next2\n",
    "    \"\"\"\n",
    "    # embed input character\n",
    "    x_t_emb = embed_x(tf.reshape(x_t, [-1, 1]))[:, 0]\n",
    "    # first layer\n",
    "    x_and_h1 = tf.concat([x_t_emb, h_t1], axis=1)\n",
    "    h_next1 = dense_h1(x_and_h1)\n",
    "    h_next1_dropped = dropout_layer1(h_next1, training=True)\n",
    "\n",
    "    # second layer\n",
    "    x_and_h2 = tf.concat([h_next1_dropped, h_t2], axis=1)\n",
    "    h_next2 = dense_h2(x_and_h2)\n",
    "    h_next2_dropped = dropout_layer2(h_next2, training=True)\n",
    "\n",
    "    # output probabilities\n",
    "    output_probas = dense_output(h_next2_dropped)\n",
    "    return output_probas, h_next1, h_next2"
   ]
  },
  {
   "cell_type": "code",
   "execution_count": 32,
   "id": "a8853d29-a775-4e85-927d-7d23f068c5d4",
   "metadata": {},
   "outputs": [],
   "source": [
    "# ========== Build Unrolled Graph ==========\n",
    "\n",
    "input_sequence = tf.placeholder(tf.int32, (None, MAX_LENGTH))\n",
    "batch_size = tf.shape(input_sequence)[0]\n",
    "\n",
    "predicted_probas = []\n",
    "\n",
    "# Two hidden states, one per layer\n",
    "h_prev1 = tf.zeros([batch_size, rnn_num_units])\n",
    "h_prev2 = tf.zeros([batch_size, rnn_num_units])\n",
    "\n",
    "for t in range(MAX_LENGTH):\n",
    "    x_t = input_sequence[:, t]\n",
    "    probas_next, h_next1, h_next2 = rnn_one_step(x_t, h_prev1, h_prev2)\n",
    "    h_prev1, h_prev2 = h_next1, h_next2\n",
    "    predicted_probas.append(probas_next)\n",
    "\n",
    "predicted_probas = tf.transpose(tf.stack(predicted_probas), [1, 0, 2])\n",
    "predicted_probas = predicted_probas[:, :-1, :]\n",
    "\n",
    "predictions_matrix = tf.reshape(predicted_probas, [-1, n_tokens])\n",
    "answers_matrix = tf.one_hot(tf.reshape(input_sequence[:, 1:], [-1]), n_tokens)\n",
    "\n",
    "loss = -tf.reduce_mean(tf.reduce_sum(answers_matrix * tf.log(predictions_matrix + 1e-9), axis=1))\n",
    "optimize = tf.train.AdamOptimizer().minimize(loss)\n",
    "\n",
    "# Initialize session\n",
    "s.run(tf.global_variables_initializer())"
   ]
  },
  {
   "cell_type": "code",
   "execution_count": 33,
   "id": "44fde3d2-536b-4638-8ff7-c3b271d70309",
   "metadata": {},
   "outputs": [
    {
     "name": "stdout",
     "output_type": "stream",
     "text": [
      "Step 500/5000, loss=0.609\n",
      "Step 1000/5000, loss=0.479\n",
      "Step 1500/5000, loss=0.409\n",
      "Step 2000/5000, loss=0.378\n",
      "Step 2500/5000, loss=0.344\n",
      "Step 3000/5000, loss=0.342\n",
      "Step 3500/5000, loss=0.346\n",
      "Step 4000/5000, loss=0.323\n",
      "Step 4500/5000, loss=0.281\n",
      "Step 5000/5000, loss=0.280\n"
     ]
    },
    {
     "data": {
      "image/png": "[encoded data removed]",
      "text/plain": [
       "<Figure size 640x480 with 1 Axes>"
      ]
     },
     "metadata": {},
     "output_type": "display_data"
    }
   ],
   "source": [
    "# ========== Training ==========\n",
    "\n",
    "n_steps = 5000\n",
    "batch_size_val = 32\n",
    "train_history = []\n",
    "\n",
    "for step in range(n_steps):\n",
    "    batch_lines = random.sample(lines, batch_size_val)\n",
    "    batch_matrix = to_matrix(batch_lines, max_len=MAX_LENGTH)  # assume you have 'to_matrix' function\n",
    "    loss_val, _ = s.run([loss, optimize], {input_sequence: batch_matrix})\n",
    "    train_history.append(loss_val)\n",
    "\n",
    "    if (step + 1) % 500 == 0:\n",
    "        print(f\"Step {step+1}/{n_steps}, loss={loss_val:.3f}\")\n",
    "\n",
    "plt.plot(train_history)\n",
    "plt.title(\"Training Loss (2-Layer RNN)\")\n",
    "plt.xlabel(\"Steps\")\n",
    "plt.ylabel(\"Loss\")\n",
    "plt.show()"
   ]
  },
  {
   "cell_type": "code",
   "execution_count": 34,
   "id": "16998d99-5102-4462-a93b-304d9f9d3ef5",
   "metadata": {},
   "outputs": [],
   "source": [
    "# ========== Generation ==========\n",
    "\n",
    "x_t = tf.placeholder(tf.int32, (1,))\n",
    "# two hidden states for generation\n",
    "h_t1 = tf.Variable(np.zeros([1, rnn_num_units], np.float32))\n",
    "h_t2 = tf.Variable(np.zeros([1, rnn_num_units], np.float32))\n",
    "\n",
    "probas_gen, h_next1_gen, h_next2_gen = rnn_one_step(x_t, h_t1, h_t2)\n",
    "\n",
    "def generate_sample(seed_phrase=\" \", max_length=MAX_LENGTH):\n",
    "    x_sequence = [token_to_id[ch] for ch in seed_phrase]\n",
    "    # reset hidden states\n",
    "    s.run(tf.assign(h_t1, h_t1.initial_value))\n",
    "    s.run(tf.assign(h_t2, h_t2.initial_value))\n",
    "\n",
    "    # feed the seed phrase\n",
    "    for ix in x_sequence[:-1]:\n",
    "        s.run([tf.assign(h_t1, h_next1_gen), tf.assign(h_t2, h_next2_gen)],\n",
    "              {x_t: [ix]})\n",
    "\n",
    "    for _ in range(max_length - len(seed_phrase)):\n",
    "        x_probs, _, _ = s.run([probas_gen, tf.assign(h_t1, h_next1_gen),\n",
    "                               tf.assign(h_t2, h_next2_gen)],\n",
    "                              {x_t: [x_sequence[-1]]})\n",
    "        x_sequence.append(np.random.choice(n_tokens, p=x_probs[0]))\n",
    "\n",
    "    return ''.join([tokens[ix] for ix in x_sequence if tokens[ix] != \"#\"])"
   ]
  },
  {
   "cell_type": "code",
   "execution_count": 35,
   "id": "8e160912-570f-4a68-a41d-558b5bd8c3be",
   "metadata": {},
   "outputs": [
    {
     "name": "stdout",
     "output_type": "stream",
     "text": [
      "Samples without prefix:\n",
      " [3WBB] Enchantment: Favumane Glame\n",
      " [4G] Creature, Demkon: Cunalron Baw Decte\n",
      " [1GG] Creature, Werfol: Tarden of Pamari\n",
      " [2U] Creature, Giant: Clini Woup Hobro\n",
      " [4B] Enchantment, Alrion: Fliut Ticgrosl\n"
     ]
    }
   ],
   "source": [
    "print(\"Samples without prefix:\")\n",
    "for _ in range(5):\n",
    "    print(generate_sample())"
   ]
  },
  {
   "cell_type": "code",
   "execution_count": 36,
   "id": "c37744ff-b71a-424f-a5b0-1aa20be891b4",
   "metadata": {},
   "outputs": [
    {
     "name": "stdout",
     "output_type": "stream",
     "text": [
      "\n",
      "Samples with prefix [2U]:\n",
      "[2U] Instant: Vosh\n",
      "[2U] Instant: Chizinifr\n",
      "[2U] Creature, Spidie: Eylmin Dememtic\n",
      "[2U] Creature, Scoce Shiman: Shank, Tunm\n",
      "[2U] Horder: Aicu Atpe Phast\n"
     ]
    }
   ],
   "source": [
    "print(\"\\nSamples with prefix [2U]:\")\n",
    "for _ in range(5):\n",
    "    print(generate_sample(\"[2U]\"))"
   ]
  },
  {
   "cell_type": "code",
   "execution_count": 38,
   "id": "13d2b8e8-ee7b-4822-8184-4d59543d205a",
   "metadata": {},
   "outputs": [
    {
     "name": "stdin",
     "output_type": "stream",
     "text": [
      "Enter a seed phrase (e.g., '[2U]' or any partial text):  [2U]\n"
     ]
    },
    {
     "name": "stdout",
     "output_type": "stream",
     "text": [
      "\n",
      "Generated text:\n",
      "[2U] Creature, Asser: Manade Prakte\n"
     ]
    }
   ],
   "source": [
    "# Prompt the user for a custom seed phrase, then generate text.\n",
    "user_seed = input(\"Enter a seed phrase (e.g., '[2U]' or any partial text): \")\n",
    "\n",
    "# Call the existing generate_sample function with the user-provided seed.\n",
    "generated_output = generate_sample(seed_phrase=user_seed, max_length=MAX_LENGTH)\n",
    "\n",
    "print(\"\\nGenerated text:\")\n",
    "print(generated_output)\n"
   ]
  },
  {
   "cell_type": "markdown",
   "id": "cb24f34c-129e-42cc-880e-0dfbd1ca57e1",
   "metadata": {},
   "source": [
    "## Second RNN Layer: Observations and Next Steps\n",
    "\n",
    "- **Without Prefix**  \n",
    "  The model now produces bracketed mana costs (e.g., `[3WBB]`, `[4G]`, `[1GG]`) followed by recognizable types like “Enchantment” or “Creature,” plus a made-up name. While some words remain **invented** (“Favumane,” “Demkon”), the **overall format** is increasingly similar to actual MTG entries.\n",
    "\n",
    "- **With Prefix `[2U]`**  \n",
    "  Prompting the model with `[2U]` yields lines starting with `[2U]` plus “Instant,” “Creature,” or other terms, indicating it has learned bracket usage and basic card structure. However, **nonsense tokens** (“Chizinifr,” “Spidie”) persist, suggesting more capacity or refinement may be needed.\n",
    "\n",
    "- **User-Seeded Prompt**  \n",
    "  When a user enters `[2U]`, the model again produces a bracketed mana cost, type, and a made-up name (`Foblend Sestit`). This confirms that the network can handle arbitrary prompts at inference time.\n",
    "\n",
    "### 2. Observations\n",
    "\n",
    "- **Improved Structure**  \n",
    "  Stacking a second RNN layer has improved the **consistency** of bracketed mana costs and card types.  \n",
    "- **Remaining Invented Words**  \n",
    "  Despite better formatting, **nonsense tokens** are still common, suggesting the model might benefit from more training steps, larger hidden sizes, or a more advanced architecture.  \n",
    "- **Partial Success**  \n",
    "  The two-layer RNN shows a **noticeable** improvement in format over a single-layer model, but outputs still lack the polish of real MTG cards.\n",
    "\n",
    "### 3. Next Steps: Transitioning to LSTM\n",
    "\n",
    "To address the remaining **gibberish** and further **enhance coherence**, the **next notebook** will focus on **LSTM** (Long Short-Term Memory) networks. LSTMs handle long-range dependencies more effectively, often yielding:\n",
    "\n",
    "1. **Reduced Invented Words**  \n",
    "   By gating and retaining context, LSTMs can generate more realistic names and phrases.  \n",
    "2. **More Consistent Formatting**  \n",
    "   With a stronger ability to remember earlier tokens, LSTMs can better maintain the `[mana cost] type: name` pattern over longer sequences.  \n",
    "3. **Better Scalability**  \n",
    "   LSTMs typically train more stably for deeper architectures or larger hidden states.\n",
    "\n",
    "Overall, by transitioning to LSTM, we expect further improvements in **training stability**, **generation quality**, and **reduced nonsense text**, taking our MTG card generator one step closer to producing coherent and interesting card lines.\n"
   ]
  },
  {
   "cell_type": "markdown",
   "id": "737cefd5-be4e-4a74-afa1-c9a56ca64498",
   "metadata": {},
   "source": [
    "## LSTM Approach (Continuing in the Same Notebook)\n",
    "\n",
    "Now that I have experimented with single-layer and two-layer vanilla RNNs, I'll try an **LSTM** (Long Short-Term Memory) model to address some of the gibberish outputs and better capture long-range dependencies.\n",
    "\n",
    "**Key Points**:\n",
    "- I have reused the **same dataset** (`lines`) and token-related variables (`tokens`, `token_to_id`, `n_tokens`, `MAX_LENGTH`) defined earlier in this notebook.\n",
    "- I defined a **new graph** and placeholders specifically for the LSTM, so it does not conflict with the existing RNN graph.\n",
    "- I trained the LSTM and compared its results (loss curve, generated samples) to the previous RNN outputs.\n"
   ]
  },
  {
   "cell_type": "code",
   "execution_count": 105,
   "id": "f15dcbd9-996b-465e-8d4b-e39c7fee4170",
   "metadata": {},
   "outputs": [
    {
     "name": "stdout",
     "output_type": "stream",
     "text": [
      "New tf.Session() is ready! We can define the LSTM graph now.\n"
     ]
    }
   ],
   "source": [
    "# 1) Close the old InteractiveSession if it's still active\n",
    "try:\n",
    "    s.close()\n",
    "except:\n",
    "    pass\n",
    "\n",
    "import tensorflow.compat.v1 as tf\n",
    "tf.disable_v2_behavior()  # Ensure TF1.x mode\n",
    "\n",
    "# 2) Reset the graph to clear any old ops/variables\n",
    "tf.reset_default_graph()\n",
    "\n",
    "# 3) Create a new regular TF session\n",
    "sess = tf.Session()\n",
    "\n",
    "# 4) Define hyperparameters for the new LSTM model\n",
    "embedding_size_lstm = 16\n",
    "lstm_num_units = 128\n",
    "learning_rate_lstm = 1e-3\n",
    "n_steps_lstm = 3000\n",
    "batch_size_lstm = 32\n",
    "\n",
    "print(\"New tf.Session() is ready! We can define the LSTM graph now.\")\n"
   ]
  },
  {
   "cell_type": "markdown",
   "id": "79adf638-5888-47aa-9f60-adc2fbdddecc",
   "metadata": {},
   "source": [
    "## LSTM Placeholders & Embedding\n",
    "\n",
    "I created:\n",
    "- `input_sequence_lstm`: a placeholder for `[None, MAX_LENGTH]` token IDs.\n",
    "- An **embedding** layer to convert token IDs to embedding vectors (same size or different from the vanilla RNN).\n"
   ]
  },
  {
   "cell_type": "code",
   "execution_count": 42,
   "id": "ea85be83-61f2-4b0b-a4bf-15343af56904",
   "metadata": {},
   "outputs": [],
   "source": [
    "# Placeholder for LSTM input\n",
    "input_sequence_lstm = tf.placeholder(tf.int32, shape=[None, MAX_LENGTH], name='input_sequence_lstm')\n",
    "\n",
    "# Embedding layer (reusing Keras layers in TF1.x)\n",
    "from tensorflow.keras.layers import Embedding, Dense\n",
    "\n",
    "embedding_lstm = Embedding(input_dim=n_tokens, output_dim=embedding_size_lstm)\n",
    "x_embed_lstm = embedding_lstm(input_sequence_lstm)  # shape: [batch_size, MAX_LENGTH, embedding_size_lstm]\n"
   ]
  },
  {
   "cell_type": "markdown",
   "id": "c3fc1558-4a95-42df-ac1f-438ade1507e3",
   "metadata": {},
   "source": [
    "## Building the LSTM (Keras-Based in TF1.x)\n",
    "\n",
    "Since we can't use the removed `tf.nn.rnn_cell.LSTMCell` and `tf.nn.dynamic_rnn` in Keras 3, I'll build the LSTM using:\n",
    "- **`tf.keras.layers.LSTMCell`** for the LSTM logic.\n",
    "- **`tf.keras.layers.RNN`** to unroll the LSTM over `MAX_LENGTH` steps, effectively replicating what `dynamic_rnn` used to do.\n",
    "\n",
    "This approach keeps the environment (TensorFlow ≥ 2.19, Keras ≥ 3.5) without downgrading versions. I’ll still be able to compute the loss in a TF1.x style session, just using modern Keras layers for the LSTM itself.\n"
   ]
  },
  {
   "cell_type": "code",
   "execution_count": 54,
   "id": "bc3d60ec-f22c-413c-9e94-5c63546cf2c5",
   "metadata": {},
   "outputs": [
    {
     "name": "stdout",
     "output_type": "stream",
     "text": [
      "Using modern Keras-based LSTM approach in TF1.x + Keras 3 environment.\n"
     ]
    }
   ],
   "source": [
    "# 1) Close any old session to avoid conflicts\n",
    "try:\n",
    "    s.close()\n",
    "except:\n",
    "    pass\n",
    "\n",
    "import tensorflow.compat.v1 as tf\n",
    "tf.disable_v2_behavior()  # Ensure TF1.x mode\n",
    "tf.reset_default_graph()   # Clear any old ops/variables\n",
    "\n",
    "sess = tf.Session()  # Standard TF1.x session\n",
    "\n",
    "print(\"Using modern Keras-based LSTM approach in TF1.x + Keras 3 environment.\")\n",
    "\n",
    "# 2) Hyperparameters for the LSTM model\n",
    "embedding_size_lstm = 16\n",
    "lstm_num_units = 128\n",
    "learning_rate_lstm = 1e-3\n",
    "n_steps_lstm = 3000\n",
    "batch_size_lstm = 32\n"
   ]
  },
  {
   "cell_type": "markdown",
   "id": "8e44f10e-4eca-4b72-a663-17309382d2f4",
   "metadata": {},
   "source": [
    "## Placeholders & Embedding Layer\n",
    "\n",
    "I defined:\n",
    "- **`input_sequence_lstm`**: a placeholder of shape `[None, MAX_LENGTH]` for our batch of token IDs.\n",
    "- A Keras **Embedding** layer (`Embedding(...)`) to convert each token ID into an embedding vector of dimension `embedding_size_lstm`.\n"
   ]
  },
  {
   "cell_type": "code",
   "execution_count": 55,
   "id": "1c01760d-c319-470c-956d-cd07faa643b9",
   "metadata": {},
   "outputs": [],
   "source": [
    "import numpy as np\n",
    "import random\n",
    "import matplotlib.pyplot as plt\n",
    "from tensorflow.keras.layers import Embedding, LSTMCell, RNN, Dense\n",
    "\n",
    "\n",
    "# Placeholder for input sequences\n",
    "input_sequence_lstm = tf.placeholder(tf.int32, shape=[None, MAX_LENGTH], name='input_sequence_lstm')\n",
    "\n",
    "# Embedding layer\n",
    "embedding_layer = Embedding(input_dim=n_tokens, output_dim=embedding_size_lstm)\n",
    "x_embed_lstm = embedding_layer(input_sequence_lstm)  # shape: [batch_size, MAX_LENGTH, embedding_size_lstm]\n"
   ]
  },
  {
   "cell_type": "markdown",
   "id": "ead84aba-1ba3-4987-8533-5de481eb76f8",
   "metadata": {},
   "source": [
    "## LSTM Definition (Keras RNN)\n",
    "\n",
    "I created:\n",
    "1. **`LSTMCell(lstm_num_units)`**: the basic LSTM cell logic.\n",
    "2. **`RNN(..., return_sequences=True)`**: automatically unrolls the LSTM cell for `MAX_LENGTH` time steps, producing an output of shape `[batch_size, MAX_LENGTH, lstm_num_units]`.\n"
   ]
  },
  {
   "cell_type": "code",
   "execution_count": 56,
   "id": "659f8fbd-d3f9-4612-af0b-58e24cd04e49",
   "metadata": {},
   "outputs": [],
   "source": [
    "# Create a Keras LSTMCell\n",
    "lstm_cell = LSTMCell(lstm_num_units)\n",
    "\n",
    "# Wrap it in an RNN layer to unroll for each time step\n",
    "rnn_layer = RNN(lstm_cell, return_sequences=True)\n",
    "\n",
    "# Unroll the LSTM\n",
    "outputs_lstm = rnn_layer(x_embed_lstm)\n",
    "# shape: [batch_size, MAX_LENGTH, lstm_num_units]\n"
   ]
  },
  {
   "cell_type": "markdown",
   "id": "d3416a8c-b241-43db-98d4-f16bfc21f5ff",
   "metadata": {},
   "source": [
    "## Computing Logits & Loss\n",
    "\n",
    "1. **Dense(n_tokens)** projects each time step to a probability distribution over `n_tokens`.\n",
    "2. I **shifted** `input_sequence_lstm` by 1 to create targets for next-token prediction.\n",
    "3. I **ignored** the last time step of the outputs (`MAX_LENGTH - 1`), flatten, and compute a **sparse cross-entropy** in TF1.x style.\n",
    "4. **Adam** optimizer with gradient clipping is used for training stability.\n"
   ]
  },
  {
   "cell_type": "code",
   "execution_count": 57,
   "id": "c2022e4b-30fc-4ff2-8cb2-6fd8c1900d37",
   "metadata": {},
   "outputs": [],
   "source": [
    "# Project each time step to n_tokens\n",
    "logits_3d_lstm = Dense(n_tokens)(outputs_lstm)  # [batch_size, MAX_LENGTH, n_tokens]\n",
    "\n",
    "# Shift input by 1\n",
    "targets_lstm = tf.reshape(input_sequence_lstm[:, 1:], [-1])  # shape: [batch_size * (MAX_LENGTH-1)]\n",
    "\n",
    "# Ignore last time step\n",
    "logits_3d_lstm = logits_3d_lstm[:, :-1, :]  # [batch_size, MAX_LENGTH-1, n_tokens]\n",
    "logits_2d_lstm = tf.reshape(logits_3d_lstm, [-1, n_tokens])\n",
    "\n",
    "# Make sure targets_lstm matches the shape\n",
    "max_len_minus_1 = tf.shape(logits_3d_lstm)[1]\n",
    "batch_size_dyn = tf.shape(logits_3d_lstm)[0]\n",
    "targets_lstm = targets_lstm[: batch_size_dyn * max_len_minus_1]\n",
    "\n",
    "# Sparse cross-entropy\n",
    "loss_per_timestep_lstm = tf.nn.sparse_softmax_cross_entropy_with_logits(\n",
    "    labels=targets_lstm,\n",
    "    logits=logits_2d_lstm\n",
    ")\n",
    "loss_lstm = tf.reduce_mean(loss_per_timestep_lstm)\n",
    "\n",
    "# Adam + Gradient Clipping\n",
    "optimizer_lstm = tf.train.AdamOptimizer(learning_rate=learning_rate_lstm)\n",
    "grads_lstm, vars_lstm = zip(*optimizer_lstm.compute_gradients(loss_lstm))\n",
    "clipped_grads_lstm, _ = tf.clip_by_global_norm(grads_lstm, 5.0)\n",
    "train_op_lstm = optimizer_lstm.apply_gradients(zip(clipped_grads_lstm, vars_lstm))\n"
   ]
  },
  {
   "cell_type": "markdown",
   "id": "77fda0a9-de6c-421f-9877-62cebf36d9b4",
   "metadata": {},
   "source": [
    "## Initialize & Train\n",
    "\n",
    "1. **Initializing** all variables with `tf.global_variables_initializer()`.\n",
    "2. Run `n_steps_lstm` training iterations.\n",
    "3. In each iteration:\n",
    "   - Sample a batch of lines.\n",
    "   - Converting them to a padded numeric matrix (`to_matrix`).\n",
    "   - Running one step of optimization, capturing the loss.\n",
    "4. Ploting the loss curve to observe convergence.\n"
   ]
  },
  {
   "cell_type": "code",
   "execution_count": 58,
   "id": "2f7fe4b2-ce15-467d-9b28-65231e8c3ee9",
   "metadata": {
    "scrolled": true
   },
   "outputs": [
    {
     "name": "stdout",
     "output_type": "stream",
     "text": [
      "Step 500/3000, LSTM loss=0.7342\n",
      "Step 1000/3000, LSTM loss=0.4465\n",
      "Step 1500/3000, LSTM loss=0.3559\n",
      "Step 2000/3000, LSTM loss=0.3553\n",
      "Step 2500/3000, LSTM loss=0.3078\n",
      "Step 3000/3000, LSTM loss=0.3085\n"
     ]
    },
    {
     "data": {
      "image/png": "[encoded data removed]",
      "text/plain": [
       "<Figure size 640x480 with 1 Axes>"
      ]
     },
     "metadata": {},
     "output_type": "display_data"
    }
   ],
   "source": [
    "sess.run(tf.global_variables_initializer())\n",
    "\n",
    "train_history_lstm = []\n",
    "for step_i in range(n_steps_lstm):\n",
    "    batch_lines = random.sample(lines, batch_size_lstm)\n",
    "    X_batch = to_matrix(batch_lines, max_len=MAX_LENGTH)\n",
    "    \n",
    "    loss_val, _ = sess.run([loss_lstm, train_op_lstm],\n",
    "                           feed_dict={input_sequence_lstm: X_batch})\n",
    "    train_history_lstm.append(loss_val)\n",
    "    \n",
    "    if (step_i + 1) % 500 == 0:\n",
    "        print(f\"Step {step_i+1}/{n_steps_lstm}, LSTM loss={loss_val:.4f}\")\n",
    "\n",
    "plt.figure()\n",
    "plt.plot(train_history_lstm, label='LSTM loss')\n",
    "plt.xlabel('Training Steps')\n",
    "plt.ylabel('Loss')\n",
    "plt.title('Keras-based LSTM in TF1.x (No tf.nn.rnn_cell)')\n",
    "plt.legend()\n",
    "plt.show()\n"
   ]
  },
  {
   "cell_type": "markdown",
   "id": "71e51b39-80ff-419d-8b49-961f33fb4d92",
   "metadata": {},
   "source": [
    "## Training Loss Explanation\n",
    "\n",
    "In the above plot, we see the **LSTM training loss** starting around 4.0+ at the very beginning (indicating random guesses) and then **rapidly decreasing** within the first few hundred steps to around ~0.7. This quick drop reflects the model learning basic sequence patterns (e.g., common characters, spaces, brackets).\n",
    "\n",
    "From there, the loss **gradually declines** over the remaining steps, eventually hovering around **0.30–0.35**. The small oscillations are normal in RNN training, especially when using random sampling for mini-batches. By **step 3,000**, the model stabilizes around a validation/training loss of ~0.31, suggesting it has learned the fundamental character patterns but may still need more steps, hyperparameter tuning, or additional capacity (e.g., a larger LSTM hidden state or multiple layers) to further reduce gibberish outputs.\n",
    "\n",
    "**Key Observations**:\n",
    "- **Initial High Loss**: ~4.0, indicating random predictions when the model had not yet learned any patterns.\n",
    "- **Rapid Decrease** (first 500 steps): Loss quickly falls to ~0.7, showing the LSTM capturing basic character-level relationships (punctuation, bracket usage, etc.).\n",
    "- **Gradual Refinement**: Between steps 500–3,000, the model fine-tunes its weights, reducing loss from ~0.7 down to ~0.3.\n",
    "- **Plateau**: Around step 2,500, the curve flattens, suggesting the model may need additional techniques (dropout, deeper architecture, or more steps) to learn more nuanced patterns of the MTG dataset.\n",
    "\n",
    "Overall, this **steady decline** in loss indicates that the LSTM is successfully learning the dataset’s character sequences, and a final loss near ~0.30 is a decent outcome for a single-layer model in TF1.x using modern Keras layers.\n"
   ]
  },
  {
   "cell_type": "markdown",
   "id": "120a7c4a-284e-48bc-9e7b-ba34ce4063cd",
   "metadata": {},
   "source": [
    "## Generation with Keras LSTM\n",
    "\n",
    "I can't directly use `dynamic_rnn` for token-by-token generation. Instead:\n",
    "1. I have defined a separate placeholder (`gen_input_lstm`) for a single-sequence input.\n",
    "2. I ran the same RNN layer in a Python loop, each time feeding the entire sequence so far, then sampling the next token.\n",
    "3. This can be slower for long sequences, but it replicates the token-by-token logic without legacy APIs.\n"
   ]
  },
  {
   "cell_type": "code",
   "execution_count": 68,
   "id": "fe0e5155-bac6-42c1-8294-95f5b310ad64",
   "metadata": {},
   "outputs": [],
   "source": [
    "# 1) After finishing your training code, define the generation placeholders/layers\n",
    "\n",
    "# Suppose we do something like:\n",
    "gen_input_lstm = tf.placeholder(tf.int32, [1, 60], name='gen_input_lstm')\n",
    "gen_embed_lstm_2 = embedding_layer(gen_input_lstm)  \n",
    "gen_cell_lstm = LSTMCell(lstm_num_units)            # new LSTM cell -> new variables\n",
    "gen_rnn_layer = RNN(gen_cell_lstm, return_sequences=True)\n",
    "gen_outputs = gen_rnn_layer(gen_embed_lstm_2)       # shape [1, 60, lstm_num_units]\n",
    "gen_logits = Dense(n_tokens)(gen_outputs)\n",
    "\n",
    "# 2) Re-run the initializer so the new variables (bias, kernel, etc.) are recognized\n",
    "sess.run(tf.global_variables_initializer())\n"
   ]
  },
  {
   "cell_type": "markdown",
   "id": "cdba1d1b-e18a-4d6c-9951-409b52cf33ea",
   "metadata": {},
   "source": [
    "### 2) Generation Function with Fixed Shape"
   ]
  },
  {
   "cell_type": "code",
   "execution_count": 69,
   "id": "2aa42e53-f715-4c92-ada1-8f9c79d17609",
   "metadata": {},
   "outputs": [],
   "source": [
    "def generate_text_lstm_fixed(seed_phrase=\" \", max_length=MAX_GEN_LENGTH, temperature=1.0):\n",
    "    \"\"\"\n",
    "    Generates text by always feeding an input of shape (1, 60).\n",
    "    We pad with the pad token for positions not yet used.\n",
    "    \"\"\"\n",
    "    seed_ids = [token_to_id[ch] for ch in seed_phrase]\n",
    "    pad_id = token_to_id[pad_token]\n",
    "    \n",
    "    if len(seed_ids) > max_length:\n",
    "        raise ValueError(f\"Seed phrase is longer than max_length ({max_length}). \"\n",
    "                         \"Shorten the seed or increase MAX_GEN_LENGTH.\")\n",
    "    \n",
    "    # We'll maintain a single array of shape [1, 60], fill with pad tokens\n",
    "    current_input = np.full((1, max_length), pad_id, dtype=np.int32)\n",
    "    \n",
    "    current_input[0, :len(seed_ids)] = seed_ids\n",
    "    generated_ids = list(seed_ids)  # We'll append new tokens here\n",
    "    \n",
    "    # We'll sample new tokens until we reach max_length\n",
    "    current_pos = len(seed_ids)  # index where we place the next token\n",
    "    \n",
    "    while current_pos < max_length:\n",
    "        # Evaluate the entire 60-length array\n",
    "        outputs_val = sess.run(gen_logits, feed_dict={gen_input_lstm: current_input})\n",
    "        # outputs_val shape: [1, 60, n_tokens]\n",
    "        \n",
    "        # The relevant logits are at position (current_pos - 1) if current_pos>0\n",
    "        # If current_pos == 0, we use index 0. But typically, seed length >=1\n",
    "        idx_for_logits = current_pos - 1 if current_pos > 0 else 0\n",
    "        last_logits = outputs_val[0, idx_for_logits, :]\n",
    "        \n",
    "        # Apply temperature\n",
    "        last_logits /= temperature\n",
    "        probs = np.exp(last_logits - np.max(last_logits))\n",
    "        probs /= np.sum(probs)\n",
    "        \n",
    "        next_token_id = np.random.choice(range(n_tokens), p=probs)\n",
    "        generated_ids.append(next_token_id)\n",
    "        \n",
    "        # Place the next token into current_input\n",
    "        current_input[0, current_pos] = next_token_id\n",
    "        current_pos += 1\n",
    "    \n",
    "    # Convert IDs to chars, ignoring pad tokens\n",
    "    return ''.join(tokens[idx] for idx in generated_ids if tokens[idx] != pad_token)"
   ]
  },
  {
   "cell_type": "markdown",
   "id": "77d58709-91f2-4f4c-9c79-928d36a3332c",
   "metadata": {},
   "source": [
    "### 3) Test the Fixed-Shape Generation"
   ]
  },
  {
   "cell_type": "code",
   "execution_count": 70,
   "id": "49c28b86-da9e-4af6-a3b6-fcce583cbd34",
   "metadata": {},
   "outputs": [
    {
     "name": "stdout",
     "output_type": "stream",
     "text": [
      "\n",
      "Fixed-shape LSTM Samples without prefix:\n",
      " .Qy9L,.[f],8'r\"7\")YjIs'l(_s7cPTjB-UFU7C8,\"?M.Cf5O(Fg8p]t5w\n",
      " J4,rW[!ytg]u'O?PIYK(xm/gj&2jmCp(Y4Fy2s1k8ZLyhRBiW5T)tRRep:\n",
      " j[\"JmrAQ3Ii2ZVRXBxCfhDl(upbP-F05K8PB.v H[)!:degW(Yo5YS,onsD\n",
      " OEDHq&MYLa8chjpmveM1vB/qiPR7gVoROc_eG9MvLYNRzwK!l(Z)IEXQQz1\n",
      " IlzobTDF1'sq tV5]Hx1czs]P8qkoArVG\"?ffLwllq]'HXWZbvslu/jX4G\n"
     ]
    }
   ],
   "source": [
    "print(\"\\nFixed-shape LSTM Samples without prefix:\")\n",
    "for _ in range(5):\n",
    "    print(generate_text_lstm_fixed(seed_phrase=\" \", max_length=MAX_GEN_LENGTH, temperature=1.0))"
   ]
  },
  {
   "cell_type": "code",
   "execution_count": 71,
   "id": "922e870c-13b0-4c14-862f-96db2db6f44a",
   "metadata": {},
   "outputs": [
    {
     "name": "stdout",
     "output_type": "stream",
     "text": [
      "\n",
      "Fixed-shape LSTM Samples with prefix [2U]:\n",
      "[2U]vtHAmGRagSLrUnolrCB(1f Dr(b.&bo4--CZ_x5i94?u!NERj\"Drh4ae\n",
      "[2U]]? 1X(A'6:3hWs?)goW,_S]]\"dh:E!\"IdYi0U.6toFS6Ey,LDhnB8-&[\n",
      "[2U]rE5,0:6xCjXVq1CM7m&Sym'ckl7s?nL8i:,:TW:(ij1c&e6n3AWinAVM\n",
      "[2U]UIckrUL35Kfe/nRj49Z!-KYs_\"LCt.uFlMuZt7WT9l(cG]8g'ayJNNHn\n",
      "[2U]yYP\"Cg.6&qGJ3jN&nKu'XSKgU!hDYISqpvllHh)B6RE0:&3dK_xIX\n"
     ]
    }
   ],
   "source": [
    "print(\"\\nFixed-shape LSTM Samples with prefix [2U]:\")\n",
    "for _ in range(5):\n",
    "    print(generate_text_lstm_fixed(seed_phrase=\"[2U]\", max_length=MAX_GEN_LENGTH, temperature=1.0))"
   ]
  },
  {
   "cell_type": "markdown",
   "id": "d45449ab-25e4-4d4a-a536-9e11a3e5706a",
   "metadata": {},
   "source": [
    "## What Went Wrong with the Current Model\n",
    "\n",
    "Despite switching to a Keras-based LSTM in TF1.x and training for 3,000 steps, the generated text remains largely **nonsensical**. Key reasons include:\n",
    "\n",
    "1. **Short Training**: Only 3,000 steps might not be enough to learn the complex patterns of the MTG dataset, which has 79 characters and diverse line structures.\n",
    "2. **Model Capacity**: A single LSTM layer with 128 hidden units may be too small for capturing longer-range dependencies (e.g., bracket usage, card types, naming conventions).\n",
    "3. **No Dedicated Validation**: Without a validation set, it’s hard to track overfitting or tune hyperparameters effectively.\n",
    "4. **Temperature/Hyperparameters**: A temperature of 1.0 can produce highly random outputs. Also, the current learning rate or dropout might not be optimal.\n",
    "\n",
    "Below, I will **improve the model** by increasing training steps, stacking multiple LSTM layers for more capacity, and adding a validation set to guide training.\n",
    "\n"
   ]
  },
  {
   "cell_type": "markdown",
   "id": "ab0e52aa-1c76-4b16-9f5a-320e68ef4faf",
   "metadata": {},
   "source": [
    "## Improving the model performance using Stacked LSTM\n",
    "\n",
    "Created a stacked LSTM that defines a two-layer (stacked) LSTM using modern Keras layers in TF1.x, then initializes and trains it. Keeping everything in **one cell** ensures all variables belong to the same graph, preventing the “Operation is not an element of this graph” errors.\n"
   ]
  },
  {
   "cell_type": "code",
   "execution_count": 78,
   "id": "731a2592-43a6-4477-9e93-ed27252451f3",
   "metadata": {},
   "outputs": [
    {
     "name": "stdout",
     "output_type": "stream",
     "text": [
      "Step 500/8000, stacked LSTM loss=0.6790\n",
      "Step 1000/8000, stacked LSTM loss=0.4745\n",
      "Step 1500/8000, stacked LSTM loss=0.3803\n",
      "Step 2000/8000, stacked LSTM loss=0.3943\n",
      "Step 2500/8000, stacked LSTM loss=0.3338\n",
      "Step 3000/8000, stacked LSTM loss=0.3349\n",
      "Step 3500/8000, stacked LSTM loss=0.3002\n",
      "Step 4000/8000, stacked LSTM loss=0.3070\n",
      "Step 4500/8000, stacked LSTM loss=0.3018\n",
      "Step 5000/8000, stacked LSTM loss=0.2896\n",
      "Step 5500/8000, stacked LSTM loss=0.2771\n",
      "Step 6000/8000, stacked LSTM loss=0.2728\n",
      "Step 6500/8000, stacked LSTM loss=0.2750\n",
      "Step 7000/8000, stacked LSTM loss=0.2598\n",
      "Step 7500/8000, stacked LSTM loss=0.2557\n",
      "Step 8000/8000, stacked LSTM loss=0.2282\n"
     ]
    },
    {
     "data": {
      "image/png": "[encoded data removed]",
      "text/plain": [
       "<Figure size 640x480 with 1 Axes>"
      ]
     },
     "metadata": {},
     "output_type": "display_data"
    }
   ],
   "source": [
    "import tensorflow.compat.v1 as tf\n",
    "tf.disable_v2_behavior()\n",
    "tf.reset_default_graph()\n",
    "\n",
    "import numpy as np\n",
    "import random\n",
    "import matplotlib.pyplot as plt\n",
    "# Keras layers for embedding, LSTMCell, stacked cells, RNN, and dense\n",
    "from tensorflow.keras.layers import Embedding, LSTMCell, StackedRNNCells, RNN, Dense\n",
    "\n",
    "\n",
    "# 1) Create a new session\n",
    "\n",
    "sess = tf.Session()\n",
    "\n",
    "\n",
    "# 2) Hyperparameters & Predefined Variables\n",
    "\n",
    "embedding_size_multi = 16\n",
    "lstm_num_units_1 = 128\n",
    "lstm_num_units_2 = 128\n",
    "learning_rate_multi = 1e-3\n",
    "n_steps_multi = 8000\n",
    "batch_size_lstm = 32\n",
    "\n",
    "\n",
    "# 3) Define the Input Placeholder & Embedding\n",
    "\n",
    "input_sequence_multi = tf.placeholder(tf.int32, [None, MAX_LENGTH], name='input_sequence_multi')\n",
    "embedding_layer_multi = Embedding(input_dim=n_tokens, output_dim=embedding_size_multi)\n",
    "x_embed_multi = embedding_layer_multi(input_sequence_multi)  # shape: [batch, MAX_LENGTH, embedding_size_multi]\n",
    "\n",
    "\n",
    "# 4) Define Stacked LSTM\n",
    "\n",
    "cell1 = LSTMCell(lstm_num_units_1)\n",
    "cell2 = LSTMCell(lstm_num_units_2)\n",
    "stacked_cells = StackedRNNCells([cell1, cell2])  # Keras-based multi-layer\n",
    "\n",
    "# RNN layer with return_sequences=True to keep outputs for each time step\n",
    "rnn_layer_multi = RNN(stacked_cells, return_sequences=True)\n",
    "outputs_multi = rnn_layer_multi(x_embed_multi)   # shape: [batch, MAX_LENGTH, lstm_num_units_2]\n",
    "\n",
    "\n",
    "# 5) Compute Logits & Loss\n",
    "\n",
    "# Dense layer to project each time step to n_tokens\n",
    "logits_3d_multi = Dense(n_tokens)(outputs_multi)\n",
    "\n",
    "# Shift input by 1 for next-token prediction\n",
    "targets_multi = tf.reshape(input_sequence_multi[:, 1:], [-1])  # shape: [batch * (MAX_LENGTH-1)]\n",
    "logits_3d_multi = logits_3d_multi[:, :-1, :]                    # ignore last timestep\n",
    "logits_2d_multi = tf.reshape(logits_3d_multi, [-1, n_tokens])   # flatten\n",
    "\n",
    "# Ensure targets match the flattened shape\n",
    "max_len_minus_1_multi = tf.shape(logits_3d_multi)[1]\n",
    "batch_size_dyn_multi = tf.shape(logits_3d_multi)[0]\n",
    "targets_multi = targets_multi[: batch_size_dyn_multi * max_len_minus_1_multi]\n",
    "\n",
    "# Sparse cross-entropy\n",
    "loss_per_timestep_multi = tf.nn.sparse_softmax_cross_entropy_with_logits(\n",
    "    labels=targets_multi,\n",
    "    logits=logits_2d_multi\n",
    ")\n",
    "loss_multi = tf.reduce_mean(loss_per_timestep_multi)\n",
    "\n",
    "\n",
    "# 6) Optimizer with Gradient Clipping\n",
    "\n",
    "optimizer_multi = tf.train.AdamOptimizer(learning_rate=learning_rate_multi)\n",
    "grads_multi, vars_multi = zip(*optimizer_multi.compute_gradients(loss_multi))\n",
    "clipped_grads_multi, _ = tf.clip_by_global_norm(grads_multi, 5.0)\n",
    "train_op_multi = optimizer_multi.apply_gradients(zip(clipped_grads_multi, vars_multi))\n",
    "\n",
    "\n",
    "# 7) Initialize All Variables (in this same graph)\n",
    "\n",
    "sess.run(tf.global_variables_initializer())\n",
    "\n",
    "# 8) Training Loop\n",
    "\n",
    "train_history_multi = []\n",
    "for step_j in range(n_steps_multi):\n",
    "    batch_lines = random.sample(lines_train, batch_size_lstm)\n",
    "    X_batch = to_matrix(batch_lines, max_len=MAX_LENGTH)\n",
    "    \n",
    "    loss_val_multi, _ = sess.run([loss_multi, train_op_multi],\n",
    "                                 feed_dict={input_sequence_multi: X_batch})\n",
    "    train_history_multi.append(loss_val_multi)\n",
    "    \n",
    "    if (step_j + 1) % 500 == 0:\n",
    "        print(f\"Step {step_j+1}/{n_steps_multi}, stacked LSTM loss={loss_val_multi:.4f}\")\n",
    "\n",
    "# Plot training loss\n",
    "plt.figure()\n",
    "plt.plot(train_history_multi, label='Stacked LSTM loss')\n",
    "plt.xlabel('Training Steps')\n",
    "plt.ylabel('Loss')\n",
    "plt.title('Stacked 2-Layer LSTM in TF1.x (Keras-based)')\n",
    "plt.legend()\n",
    "plt.show()\n"
   ]
  },
  {
   "cell_type": "markdown",
   "id": "86777858-a040-473b-9790-b68626bb8c76",
   "metadata": {},
   "source": [
    "## Final Training Results & Next Steps\n",
    "\n",
    "After **8,000 steps** of training our **Stacked 2-Layer LSTM**, the loss curve has steadily declined to **~0.23**. Below are the key observations:\n",
    "\n",
    "1. **Rapid Initial Drop**  \n",
    "   - Loss falls from ~4.5 to ~0.7 within the first 500 steps, indicating the model quickly learns fundamental character distributions and short-range patterns.\n",
    "\n",
    "2. **Continued Refinement**  \n",
    "   - From 500 to 5,000 steps, the loss gradually decreases to ~0.28. The network refines its understanding of MTG-like sequences (e.g., `[mana cost]`, card types).\n",
    "\n",
    "3. **Further Improvement**  \n",
    "   - Beyond 5,000 steps, the curve keeps descending, eventually hitting ~0.23 at 8,000 steps. This suggests the model still benefits from additional training and may produce more coherent text with even more steps.\n",
    "\n",
    "### Generating Text (With & Without Prefix)\n",
    "\n",
    "To see if this improvement translates to better card lines, we will:\n",
    "1. **Generate** several lines with no prefix, observing if the bracket usage and card names appear more structured.\n",
    "2. **Use a prefix** (e.g., `[2U]`) to see how well the model continues from a known mana cost.\n",
    "\n",
    "I’ll evaluate the **quality** of these samples and decide on **further refinements** (e.g., more training, hyperparameter tuning, or multi-epoch approaches).\n",
    "\n",
    "Overall, the **Stacked LSTM** approach shows promise, reducing loss significantly. Next, I’ll generate text samples to gauge whether these lower losses translate into more realistic Magic: The Gathering card lines.\n"
   ]
  },
  {
   "cell_type": "markdown",
   "id": "8f303774-4eed-4017-bf32-5f0b4286e8ed",
   "metadata": {},
   "source": [
    "## Generating Text with the Stacked 2-Layer LSTM\n",
    "\n",
    "Now that our two-layer LSTM has completed **8,000 training steps** with a final loss near **0.23**, let’s see if the improved training translates into more coherent text. We’ll generate:\n",
    "\n",
    "1. **Lines without any prefix** (random starts).\n",
    "2. **Lines with a `[2U]` prefix**, to see if the model properly continues a known mana cost.\n",
    "\n",
    "After inspecting these samples, we’ll decide on **further refinements** (e.g., more training steps, hyperparameter tuning, or additional layers).\n"
   ]
  },
  {
   "cell_type": "code",
   "execution_count": 87,
   "id": "92d28e2f-1a6f-40d3-9c40-4bcb5068b719",
   "metadata": {},
   "outputs": [
    {
     "name": "stdout",
     "output_type": "stream",
     "text": [
      "Step 500/8000, stacked LSTM loss=0.6447\n",
      "Step 1000/8000, stacked LSTM loss=0.4698\n",
      "Step 1500/8000, stacked LSTM loss=0.4259\n",
      "Step 2000/8000, stacked LSTM loss=0.3361\n",
      "Step 2500/8000, stacked LSTM loss=0.3149\n",
      "Step 3000/8000, stacked LSTM loss=0.3210\n",
      "Step 3500/8000, stacked LSTM loss=0.2943\n",
      "Step 4000/8000, stacked LSTM loss=0.3020\n",
      "Step 4500/8000, stacked LSTM loss=0.3131\n",
      "Step 5000/8000, stacked LSTM loss=0.2818\n",
      "Step 5500/8000, stacked LSTM loss=0.2765\n",
      "Step 6000/8000, stacked LSTM loss=0.2699\n",
      "Step 6500/8000, stacked LSTM loss=0.2522\n",
      "Step 7000/8000, stacked LSTM loss=0.2515\n",
      "Step 7500/8000, stacked LSTM loss=0.2575\n",
      "Step 8000/8000, stacked LSTM loss=0.2454\n"
     ]
    },
    {
     "data": {
      "image/png": "[encoded data removed]",
      "text/plain": [
       "<Figure size 640x480 with 1 Axes>"
      ]
     },
     "metadata": {},
     "output_type": "display_data"
    },
    {
     "name": "stdout",
     "output_type": "stream",
     "text": [
      "No Prefix Samples:\n",
      " [1R\n",
      " [1ooRo\n",
      " [3WWo\n",
      " [41\n",
      " [42\n",
      "\n",
      "[2U] Prefix Samples:\n",
      "[2U][BR I\n",
      "[2U][6U C\n",
      "[2U][5] E\n",
      "[2U][UU E\n",
      "[2U][1] I\n"
     ]
    }
   ],
   "source": [
    "import tensorflow.compat.v1 as tf\n",
    "tf.disable_v2_behavior()\n",
    "tf.reset_default_graph()\n",
    "\n",
    "import numpy as np\n",
    "import random\n",
    "import matplotlib.pyplot as plt\n",
    "from tensorflow.keras.layers import Embedding, LSTMCell, StackedRNNCells, RNN, Dense\n",
    "\n",
    "\n",
    "# 1) Create Session & Define Hyperparameters\n",
    "\n",
    "sess = tf.Session()\n",
    "\n",
    "embedding_size = 16\n",
    "lstm_num_units_1 = 128\n",
    "lstm_num_units_2 = 128\n",
    "learning_rate = 1e-3\n",
    "n_steps = 8000\n",
    "batch_size_val = 32\n",
    "\n",
    "\n",
    "\n",
    "# 2) Placeholders & Model\n",
    "##############################################################################\n",
    "input_sequence_multi = tf.placeholder(tf.int32, [None, MAX_LENGTH], name='input_sequence_multi')\n",
    "embedding_layer_multi = Embedding(n_tokens, embedding_size)\n",
    "x_embed_multi = embedding_layer_multi(input_sequence_multi)\n",
    "\n",
    "cell1 = LSTMCell(lstm_num_units_1)\n",
    "cell2 = LSTMCell(lstm_num_units_2)\n",
    "stacked_cells = StackedRNNCells([cell1, cell2])\n",
    "\n",
    "rnn_layer_multi = RNN(stacked_cells, return_sequences=True)\n",
    "outputs_multi = rnn_layer_multi(x_embed_multi)\n",
    "\n",
    "logits_3d_multi = Dense(n_tokens)(outputs_multi)\n",
    "\n",
    "# Shift for next-token\n",
    "targets_multi = tf.reshape(input_sequence_multi[:, 1:], [-1])\n",
    "logits_3d_multi = logits_3d_multi[:, :-1, :]\n",
    "logits_2d_multi = tf.reshape(logits_3d_multi, [-1, n_tokens])\n",
    "\n",
    "max_len_minus_1_multi = tf.shape(logits_3d_multi)[1]\n",
    "batch_size_dyn_multi = tf.shape(logits_3d_multi)[0]\n",
    "targets_multi = targets_multi[: batch_size_dyn_multi * max_len_minus_1_multi]\n",
    "\n",
    "loss_per_timestep_multi = tf.nn.sparse_softmax_cross_entropy_with_logits(\n",
    "    labels=targets_multi,\n",
    "    logits=logits_2d_multi\n",
    ")\n",
    "loss_multi = tf.reduce_mean(loss_per_timestep_multi)\n",
    "\n",
    "optimizer_multi = tf.train.AdamOptimizer(learning_rate=learning_rate)\n",
    "grads_multi, vars_multi = zip(*optimizer_multi.compute_gradients(loss_multi))\n",
    "clipped_grads_multi, _ = tf.clip_by_global_norm(grads_multi, 5.0)\n",
    "train_op_multi = optimizer_multi.apply_gradients(zip(clipped_grads_multi, vars_multi))\n",
    "\n",
    "##############################################################################\n",
    "# 3) Initialize & Train\n",
    "##############################################################################\n",
    "sess.run(tf.global_variables_initializer())\n",
    "\n",
    "train_history_multi = []\n",
    "for step_j in range(n_steps):\n",
    "    batch_lines = random.sample(lines_train, batch_size_val)\n",
    "    X_batch = to_matrix(batch_lines, max_len=MAX_LENGTH)\n",
    "    loss_val, _ = sess.run([loss_multi, train_op_multi],\n",
    "                           feed_dict={input_sequence_multi: X_batch})\n",
    "    train_history_multi.append(loss_val)\n",
    "    \n",
    "    if (step_j + 1) % 500 == 0:\n",
    "        print(f\"Step {step_j+1}/{n_steps}, stacked LSTM loss={loss_val:.4f}\")\n",
    "\n",
    "plt.plot(train_history_multi)\n",
    "plt.xlabel(\"Steps\")\n",
    "plt.ylabel(\"Loss\")\n",
    "plt.title(\"Stacked 2-Layer LSTM Training\")\n",
    "plt.show()\n",
    "\n",
    "##############################################################################\n",
    "# 4) Single-Pass Generation\n",
    "##############################################################################\n",
    "def generate_text_stacked_singlepass(seed_phrase=\" \", temperature=1.0):\n",
    "    pad_id = token_to_id[\"#\"]\n",
    "    seed_ids = [token_to_id[ch] for ch in seed_phrase]\n",
    "    \n",
    "    if len(seed_ids) >= MAX_LENGTH:\n",
    "        raise ValueError(f\"Seed phrase is too long (>= {MAX_LENGTH}).\")\n",
    "    \n",
    "    # (1, MAX_LENGTH) array\n",
    "    current_input = np.full((1, MAX_LENGTH), pad_id, dtype=np.int32)\n",
    "    current_input[0, :len(seed_ids)] = seed_ids\n",
    "    \n",
    "    # Run the model once\n",
    "    logits_val = sess.run(logits_3d_multi, feed_dict={input_sequence_multi: current_input})\n",
    "    # shape: [1, MAX_LENGTH-1, n_tokens]\n",
    "    \n",
    "    generated_ids = list(seed_ids)\n",
    "    for t in range(logits_val.shape[1]):  # up to MAX_LENGTH-1\n",
    "        if len(generated_ids) >= MAX_LENGTH:\n",
    "            break\n",
    "        \n",
    "        step_logits = logits_val[0, t, :]\n",
    "        step_logits /= temperature\n",
    "        probs = np.exp(step_logits - np.max(step_logits))\n",
    "        probs /= np.sum(probs)\n",
    "        \n",
    "        next_token_id = np.random.choice(range(n_tokens), p=probs)\n",
    "        generated_ids.append(next_token_id)\n",
    "    \n",
    "    return ''.join(tokens[idx] for idx in generated_ids if tokens[idx] != \"#\")\n",
    "\n",
    "print(\"No Prefix Samples:\")\n",
    "for _ in range(5):\n",
    "    print(generate_text_stacked_singlepass(seed_phrase=\" \", temperature=1.0))\n",
    "\n",
    "print(\"\\n[2U] Prefix Samples:\")\n",
    "for _ in range(5):\n",
    "    print(generate_text_stacked_singlepass(seed_phrase=\"[2U]\", temperature=1.0))\n"
   ]
  },
  {
   "cell_type": "markdown",
   "id": "f5534729-577a-458a-b0c4-273ba6b1870c",
   "metadata": {},
   "source": [
    "## Mistake & Method to Move Forward\n",
    "\n",
    "**Mistake**  \n",
    "I used the **training output** (`logits_3d_multi[:, :-1, :]`) for generation without an **iterative** feed-back approach. As a result, my model only produced a handful of tokens (the difference between `MAX_LENGTH` and `(MAX_LENGTH - 1)`), leading to extremely short lines like `\"[2U][1] I\"`.\n",
    "\n",
    "**Method to Move Forward**  \n",
    "To generate **longer** outputs that include `[mana cost] type, name: ...` structures, I should:\n",
    "1. **Remove** or **avoid** the truncated logic (`[:, :-1, :]`) for generation, or define a **second** untruncated output just for generation.\n",
    "2. **Use an iterative approach** that re-feeds each newly sampled token back into the model. This way, the model can produce a full line up to `MAX_LENGTH` tokens or more, rather than stopping after a few tokens."
   ]
  },
  {
   "cell_type": "code",
   "execution_count": null,
   "id": "a049d363-8190-4403-a848-3a47d9ff8fc8",
   "metadata": {},
   "outputs": [],
   "source": [
    "import tensorflow.compat.v1 as tf\n",
    "tf.disable_v2_behavior()\n",
    "tf.reset_default_graph()\n",
    "\n",
    "import numpy as np\n",
    "import random\n",
    "import matplotlib.pyplot as plt\n",
    "from tensorflow.keras.layers import Embedding, LSTMCell, StackedRNNCells, RNN, Dense\n",
    "\n",
    "# 1) Session & Hyperparameters\n",
    "\n",
    "sess = tf.Session()\n",
    "\n",
    "embedding_size = 16\n",
    "lstm_num_units_1 = 128\n",
    "lstm_num_units_2 = 128\n",
    "learning_rate = 1e-3\n",
    "n_steps = 8000\n",
    "batch_size_val = 32\n",
    "MAX_LENGTH = 169  # matching your placeholder dimension\n",
    "\n",
    "\n",
    "# 2) Define the Placeholder & Stacked LSTM\n",
    "\n",
    "input_sequence = tf.placeholder(tf.int32, [None, MAX_LENGTH], name=\"input_sequence\")\n",
    "\n",
    "embedding_layer = Embedding(input_dim=n_tokens, output_dim=embedding_size)\n",
    "x_embed = embedding_layer(input_sequence)\n",
    "\n",
    "cell1 = LSTMCell(lstm_num_units_1)\n",
    "cell2 = LSTMCell(lstm_num_units_2)\n",
    "stacked_cells = StackedRNNCells([cell1, cell2])\n",
    "\n",
    "rnn_layer = RNN(stacked_cells, return_sequences=True)\n",
    "outputs = rnn_layer(x_embed)  # shape: [batch_size, MAX_LENGTH, lstm_num_units_2]\n",
    "\n",
    "logits_3d_main = Dense(n_tokens)(outputs)  # shape: [batch_size, MAX_LENGTH, n_tokens]\n",
    "\n",
    "\n",
    "# 3) Separate Train & Generation Logic\n",
    "\n",
    "# For training, skip the last time step\n",
    "logits_3d_train = logits_3d_main[:, :-1, :]  # shape: [batch_size, MAX_LENGTH-1, n_tokens]\n",
    "targets_train = tf.reshape(input_sequence[:, 1:], [-1])\n",
    "max_len_minus_1 = tf.shape(logits_3d_train)[1]\n",
    "batch_size_dyn = tf.shape(logits_3d_train)[0]\n",
    "targets_train = targets_train[: batch_size_dyn * max_len_minus_1]\n",
    "\n",
    "logits_2d_train = tf.reshape(logits_3d_train, [-1, n_tokens])\n",
    "loss_per_timestep = tf.nn.sparse_softmax_cross_entropy_with_logits(\n",
    "    labels=targets_train, logits=logits_2d_train\n",
    ")\n",
    "loss = tf.reduce_mean(loss_per_timestep)\n",
    "\n",
    "# For generation, use the untruncated output\n",
    "logits_3d_gen = logits_3d_main  # shape: [batch_size, MAX_LENGTH, n_tokens]\n",
    "\n",
    "\n",
    "# 4) Optimizer\n",
    "\n",
    "optimizer = tf.train.AdamOptimizer(learning_rate=learning_rate)\n",
    "grads, vars_ = zip(*optimizer.compute_gradients(loss))\n",
    "clipped_grads, _ = tf.clip_by_global_norm(grads, 5.0)\n",
    "train_op = optimizer.apply_gradients(zip(clipped_grads, vars_))\n",
    "\n",
    "sess.run(tf.global_variables_initializer())\n",
    "\n",
    "\n",
    "# 5) Training Loop\n",
    "\n",
    "train_history = []\n",
    "for step_i in range(n_steps):\n",
    "    batch_lines = random.sample(lines_train, batch_size_val)\n",
    "    X_batch = to_matrix(batch_lines, max_len=MAX_LENGTH)\n",
    "    loss_val, _ = sess.run([loss, train_op], feed_dict={input_sequence: X_batch})\n",
    "    train_history.append(loss_val)\n",
    "    \n",
    "    if (step_i + 1) % 500 == 0:\n",
    "        print(f\"Step {step_i+1}/{n_steps}, stacked LSTM loss={loss_val:.4f}\")\n",
    "\n",
    "plt.plot(train_history)\n",
    "plt.xlabel(\"Steps\")\n",
    "plt.ylabel(\"Loss\")\n",
    "plt.title(\"Stacked 2-Layer LSTM Training\")\n",
    "plt.show()\n",
    "\n",
    "\n",
    "# 6) Iterative Generation with a Fixed (1, 169) approach\n",
    "\n",
    "def iterative_generate_fixed_shape(\n",
    "    sess,\n",
    "    seed_phrase=\" \",\n",
    "    max_length=MAX_LENGTH,  # must be 169 to match placeholder\n",
    "    temperature=1.0\n",
    "):\n",
    "    \"\"\"\n",
    "    We'll feed a (1, MAX_LENGTH=169) array each iteration, placing the newly sampled\n",
    "    token at the next position. This avoids shape mismatch in TF1.x + Keras 3.\n",
    "    \"\"\"\n",
    "    pad_id = token_to_id[\"#\"]\n",
    "    seed_ids = [token_to_id[ch] for ch in seed_phrase]\n",
    "    \n",
    "    if len(seed_ids) > max_length:\n",
    "        raise ValueError(\"Seed phrase longer than 169.\")\n",
    "    \n",
    "    # Prepare a (1, 169) array\n",
    "    current_input = np.full((1, max_length), pad_id, dtype=np.int32)\n",
    "    current_input[0, :len(seed_ids)] = seed_ids\n",
    "    \n",
    "    generated_ids = list(seed_ids)\n",
    "    current_pos = len(seed_ids)\n",
    "    \n",
    "    while current_pos < max_length:\n",
    "        # Evaluate entire array\n",
    "        logits_val = sess.run(logits_3d_gen, feed_dict={input_sequence: current_input})\n",
    "        # shape: [1, 169, n_tokens]\n",
    "        \n",
    "        idx_for_logits = current_pos - 1 if current_pos > 0 else 0\n",
    "        last_logits = logits_val[0, idx_for_logits, :]\n",
    "\n",
    "        # Temperature\n",
    "        last_logits /= temperature\n",
    "        probs = np.exp(last_logits - np.max(last_logits))\n",
    "        probs /= np.sum(probs)\n",
    "        \n",
    "        next_token_id = np.random.choice(range(n_tokens), p=probs)\n",
    "        generated_ids.append(next_token_id)\n",
    "        \n",
    "        current_input[0, current_pos] = next_token_id\n",
    "        current_pos += 1\n",
    "    \n",
    "    # Convert IDs back to chars, ignoring pad token\n",
    "    return ''.join(tokens[idx] for idx in generated_ids if tokens[idx] != \"#\")\n"
   ]
  },
  {
   "cell_type": "code",
   "execution_count": 93,
   "id": "ec923856-d7ba-4e18-9443-8dfe1cf1d20d",
   "metadata": {},
   "outputs": [
    {
     "name": "stdout",
     "output_type": "stream",
     "text": [
      "No Prefix:\n",
      " [1UU] Legendary Creature, Human Wizard: Pee lutclormer\n",
      " [3RR] Creature, Elemental Wizard: Kitton themorit\n",
      " [4U] Creature, Human Nomor: Cractoot Graven\n",
      " [U] Instant: Clrud Toye\n",
      " [6] Artifact, Equipment: Wearstakemor\n",
      "\n",
      "With [2U] prefix:\n",
      "[2U] Creature, Human Wizard: Evalu Scilcke\n",
      "[2U] Instant: Rubisnovef Wear Rezet\n",
      "[2U] Creature, Merfolk Wizard: Sovermant Imavane\n",
      "[2U] Sorcery: Piter Pight\n",
      "[2U] Creature, Illusion: Prautarr\n"
     ]
    }
   ],
   "source": [
    "print(\"No Prefix:\")\n",
    "for _ in range(5):\n",
    "    print(iterative_generate_fixed_shape(sess, seed_phrase=\" \", max_length=169, temperature=1.0))\n",
    "\n",
    "print(\"\\nWith [2U] prefix:\")\n",
    "for _ in range(5):\n",
    "    print(iterative_generate_fixed_shape(sess, seed_phrase=\"[2U]\", max_length=169, temperature=1.0))\n"
   ]
  },
  {
   "cell_type": "markdown",
   "id": "a15dca79-88f2-4e17-ac03-6c8063fbe2e3",
   "metadata": {},
   "source": [
    "## Results Analysis\n",
    "\n",
    "The two-layer LSTM now produces lines that more closely match Magic: The Gathering card entries. For instance:\n",
    "\n",
    "- **Without Prefix**  \n",
    "    [1UU] Legendary Creature, Human Wizard: Pee lutclormer\n",
    "    [3RR] Creature, Elemental Wizard: Kitton themorit\n",
    "    [4U] Creature, Human Nomor: Cractoot Graven\n",
    "    [U] Instant: Clrud Toye\n",
    "    [6] Artifact, Equipment: Wearstakemor\n",
    "\n",
    "- **With [2U] Prefix** \n",
    "    [2U] Creature, Human Wizard: Evalu Scilcke\n",
    "    [2U] Instant: Rubisnovef Wear Rezet\n",
    "    [2U] Creature, Merfolk Wizard: Sovermant Imavane\n",
    "    [2U] Sorcery: Piter Pight\n",
    "    [2U] Creature, Illusion: Prautarr\n",
    "\n",
    "\n",
    "\n",
    "\n",
    "These outputs feature bracketed mana costs, card types (“Creature,” “Instant,” “Artifact, Equipment”), and partial naming conventions (“Human Wizard,” “Merfolk Wizard”). Though some words remain invented (e.g., “Pee lutclormer,” “Rubisnovef”), the lines are far more coherent and structured than previous short outputs.\n",
    "\n",
    "## What Mistakes We Corrected\n",
    "\n",
    "1. **Single-Pass Generation Using Truncated Output**  \n",
    " Initially, we tried to use `logits_3d[:, :-1, :]` (intended for training) to generate lines in a single pass. That logic restricted the model to only a few tokens, resulting in very short outputs.\n",
    "\n",
    "2. **Feeding (1, 60) to a Placeholder Expecting (1, 169)**  \n",
    " Because the placeholder shape was `[None, 169]`, attempting to feed `(1, 60)` caused dimension mismatches. We resolved this by always feeding `(1, 169)` during generation and stopping our sampling at 60 tokens.\n",
    "\n",
    "## How the Results Improved\n",
    "\n",
    "- **Bracketed Mana Costs**: The model reliably generates bracketed values like `[1UU]`, `[3RR]`, `[2U]`.  \n",
    "- **Consistent Card Types**: It produces lines with “Creature,” “Instant,” “Artifact, Equipment,” etc., reflecting the dataset’s structure.  \n",
    "- **More Coherent Prefix Handling**: When seeded with `[2U]`, it correctly extends that bracketed cost and supplies a card type and name, demonstrating the model’s learned patterns.\n",
    "\n",
    "## Next Step\n",
    "\n",
    "I will be continuing using the **iterative generation** method that re-feeds `(1, 169)` each time, and potentially:\n",
    "\n",
    "- **Train Longer**: Go beyond 8,000 steps to see if nonsense words can be reduced further.  \n",
    "- **Tune Hyperparameters**: Adjust dropout, hidden units, or learning rate for more stable convergence and improved final outputs.  \n",
    "- **Use a Validation Set**: Monitor overfitting, possibly apply early stopping or learning rate decay.\n",
    "\n",
    "By refining these aspects, we expect even more realistic lines that further resemble genuine Magic: The Gathering cards.\n",
    "\n"
   ]
  },
  {
   "cell_type": "markdown",
   "id": "93b7ffec-b35d-446c-a065-266a10d1b7e8",
   "metadata": {},
   "source": [
    "## Next Step: Adding a Validation Set and Early Stopping\n",
    "\n",
    "Now that my two-layer LSTM is generating more coherent Magic: The Gathering–style lines, we can **improve** the model by:\n",
    "1. **Adding a Validation Set**: I'll split a portion of the data (e.g., 10%) for validation. This helps us track overfitting and tune hyperparameters more effectively.\n",
    "2. **Implementing Early Stopping**: I'll monitor the validation loss each epoch (or every few steps). If it stops improving for a certain patience period, we'll stop training. This often prevents overfitting and saves computational resources."
   ]
  },
  {
   "cell_type": "code",
   "execution_count": 97,
   "id": "453f1a62-b468-4b55-9b32-36a3be1f93f7",
   "metadata": {},
   "outputs": [
    {
     "name": "stdout",
     "output_type": "stream",
     "text": [
      "Step 500/8000, Train loss=0.7118, Val loss=0.6715\n",
      "Step 1000/8000, Train loss=0.4588, Val loss=0.4483\n",
      "Step 1500/8000, Train loss=0.4086, Val loss=0.4279\n",
      "Step 2000/8000, Train loss=0.3327, Val loss=0.3671\n",
      "Step 2500/8000, Train loss=0.3393, Val loss=0.3522\n",
      "Step 3000/8000, Train loss=0.3127, Val loss=0.3189\n",
      "Step 3500/8000, Train loss=0.3342, Val loss=0.3453\n",
      "Step 4000/8000, Train loss=0.2982, Val loss=0.3084\n",
      "Step 4500/8000, Train loss=0.2785, Val loss=0.2863\n",
      "Step 5000/8000, Train loss=0.2996, Val loss=0.2915\n",
      "Step 5500/8000, Train loss=0.3032, Val loss=0.2891\n",
      "Step 6000/8000, Train loss=0.2675, Val loss=0.2821\n",
      "Step 6500/8000, Train loss=0.2732, Val loss=0.2663\n",
      "Step 7000/8000, Train loss=0.2605, Val loss=0.2608\n",
      "Step 7500/8000, Train loss=0.2593, Val loss=0.2737\n",
      "Step 8000/8000, Train loss=0.2410, Val loss=0.2445\n"
     ]
    },
    {
     "data": {
      "image/png": "[encoded data removed]",
      "text/plain": [
       "<Figure size 640x480 with 1 Axes>"
      ]
     },
     "metadata": {},
     "output_type": "display_data"
    },
    {
     "name": "stdout",
     "output_type": "stream",
     "text": [
      "No Prefix:\n",
      " [1W] Creature, Angel Scouta: Mazor Dragons\n",
      " [5G] Tribb Creluf, Knask: Skind MightsAnt\n",
      " [None] Land: Tuus\n",
      " [B] Enchantment: Portess of the Neile\n",
      " [4RR] Creature, Elemental Astishic Bersent: Funtbers Curnc\n",
      "\n",
      "With [2U] prefix:\n",
      "[2U] Enchantment, Aura: Chire of Ofheriting\n",
      "[2U] Artifact Creature, Zombie  Arth: Whitted Ohel,\n",
      "[2U] Instant: Snath's Fxyx\n",
      "[2U] Instant: Crast of Artida\n",
      "[2U] Sorcery: Shath's Silate\n"
     ]
    }
   ],
   "source": [
    "import tensorflow.compat.v1 as tf\n",
    "tf.disable_v2_behavior()\n",
    "tf.reset_default_graph()\n",
    "\n",
    "import numpy as np\n",
    "import random\n",
    "import matplotlib.pyplot as plt\n",
    "from tensorflow.keras.layers import Embedding, LSTMCell, StackedRNNCells, RNN, Dense\n",
    "\n",
    "# ------------------------------------------------------------\n",
    "# 1) Hyperparameters & Data Splits\n",
    "# ------------------------------------------------------------\n",
    "random.shuffle(lines)\n",
    "\n",
    "# Split 90% train, 10% validation\n",
    "train_ratio = 0.9\n",
    "split_idx = int(len(lines) * train_ratio)\n",
    "lines_train = lines[:split_idx]\n",
    "lines_val = lines[split_idx:]\n",
    "\n",
    "MAX_LENGTH = 169\n",
    "embedding_size = 16\n",
    "lstm_num_units_1 = 128\n",
    "lstm_num_units_2 = 128\n",
    "learning_rate = 1e-3\n",
    "n_steps = 8000\n",
    "batch_size_val = 32\n",
    "\n",
    "# Assume lines, tokens, token_to_id, n_tokens, to_matrix are defined above\n",
    "\n",
    "# ------------------------------------------------------------\n",
    "# 2) Placeholders & Stacked LSTM\n",
    "# ------------------------------------------------------------\n",
    "sess = tf.Session()\n",
    "input_sequence = tf.placeholder(tf.int32, [None, MAX_LENGTH], name=\"input_sequence\")\n",
    "\n",
    "embedding_layer = Embedding(n_tokens, embedding_size)\n",
    "x_embed = embedding_layer(input_sequence)\n",
    "\n",
    "cell1 = LSTMCell(lstm_num_units_1)\n",
    "cell2 = LSTMCell(lstm_num_units_2)\n",
    "stacked_cells = StackedRNNCells([cell1, cell2])\n",
    "\n",
    "rnn_layer = RNN(stacked_cells, return_sequences=True)\n",
    "outputs = rnn_layer(x_embed)\n",
    "\n",
    "# We'll keep the final Dense output untruncated for generation\n",
    "logits_3d_main = Dense(n_tokens)(outputs)\n",
    "\n",
    "# Train: skip last time step\n",
    "logits_3d_train = logits_3d_main[:, :-1, :]\n",
    "targets_train = tf.reshape(input_sequence[:, 1:], [-1])\n",
    "max_len_minus_1 = tf.shape(logits_3d_train)[1]\n",
    "batch_size_dyn = tf.shape(logits_3d_train)[0]\n",
    "targets_train = targets_train[: batch_size_dyn * max_len_minus_1]\n",
    "\n",
    "logits_2d_train = tf.reshape(logits_3d_train, [-1, n_tokens])\n",
    "loss_per_timestep = tf.nn.sparse_softmax_cross_entropy_with_logits(\n",
    "    labels=targets_train, logits=logits_2d_train\n",
    ")\n",
    "loss = tf.reduce_mean(loss_per_timestep)\n",
    "\n",
    "optimizer = tf.train.AdamOptimizer(learning_rate=learning_rate)\n",
    "grads, vars_ = zip(*optimizer.compute_gradients(loss))\n",
    "clipped_grads, _ = tf.clip_by_global_norm(grads, 5.0)\n",
    "train_op = optimizer.apply_gradients(zip(clipped_grads, vars_))\n",
    "\n",
    "# We'll define the same logic for validation loss\n",
    "loss_val_ph = tf.placeholder(tf.float32, [])\n",
    "tf.summary.scalar('val_loss', loss_val_ph)\n",
    "\n",
    "sess.run(tf.global_variables_initializer())\n",
    "\n",
    "# ------------------------------------------------------------\n",
    "# 3) Early Stopping & Training with Validation\n",
    "# ------------------------------------------------------------\n",
    "train_history = []\n",
    "val_history = []\n",
    "best_val_loss = float('inf')\n",
    "patience = 5\n",
    "patience_counter = 0\n",
    "\n",
    "def compute_validation_loss():\n",
    "    # sample lines from lines_val\n",
    "    batch_lines_val = random.sample(lines_val, batch_size_val)\n",
    "    X_val = to_matrix(batch_lines_val, max_len=MAX_LENGTH)\n",
    "    loss_val = sess.run(loss, feed_dict={input_sequence: X_val})\n",
    "    return loss_val\n",
    "\n",
    "for step_i in range(n_steps):\n",
    "    batch_lines_train = random.sample(lines_train, batch_size_val)\n",
    "    X_batch = to_matrix(batch_lines_train, max_len=MAX_LENGTH)\n",
    "    \n",
    "    loss_val_train, _ = sess.run([loss, train_op],\n",
    "                                 feed_dict={input_sequence: X_batch})\n",
    "    train_history.append(loss_val_train)\n",
    "    \n",
    "    if (step_i + 1) % 500 == 0:\n",
    "        loss_val_now = compute_validation_loss()\n",
    "        val_history.append(loss_val_now)\n",
    "        print(f\"Step {step_i+1}/{n_steps}, Train loss={loss_val_train:.4f}, Val loss={loss_val_now:.4f}\")\n",
    "        \n",
    "        if loss_val_now < best_val_loss:\n",
    "            best_val_loss = loss_val_now\n",
    "            patience_counter = 0\n",
    "        else:\n",
    "            patience_counter += 1\n",
    "        \n",
    "        if patience_counter >= patience:\n",
    "            print(\"Early stopping triggered.\")\n",
    "            break\n",
    "\n",
    "# Plot training vs. validation loss\n",
    "plt.plot(train_history, label='train_loss')\n",
    "x_vals = np.arange(499, len(train_history), 500)\n",
    "plt.plot(x_vals, val_history, label='val_loss')\n",
    "plt.xlabel(\"Training Steps\")\n",
    "plt.ylabel(\"Loss\")\n",
    "plt.title(\"Training vs. Validation Loss with Early Stopping\")\n",
    "plt.legend()\n",
    "plt.show()\n",
    "\n",
    "# ------------------------------------------------------------\n",
    "# 4) Iterative Generation\n",
    "# ------------------------------------------------------------\n",
    "# We'll use logits_3d_main (untruncated) for generation\n",
    "logits_3d_gen = logits_3d_main  # shape: [batch, MAX_LENGTH, n_tokens]\n",
    "\n",
    "def iterative_generate_fixed_shape(sess, seed_phrase=\" \", max_length=60, temperature=1.0):\n",
    "    \"\"\"\n",
    "    Feeds a (1, 169) array each iteration, but stops sampling at 'max_length'.\n",
    "    \"\"\"\n",
    "    pad_id = token_to_id[\"#\"]\n",
    "    seed_ids = [token_to_id[ch] for ch in seed_phrase]\n",
    "    \n",
    "    if len(seed_ids) > MAX_LENGTH:\n",
    "        raise ValueError(\"Seed phrase longer than 169.\")\n",
    "    \n",
    "    # Prepare (1, 169)\n",
    "    current_input = np.full((1, MAX_LENGTH), pad_id, dtype=np.int32)\n",
    "    current_input[0, :len(seed_ids)] = seed_ids\n",
    "    \n",
    "    generated_ids = list(seed_ids)\n",
    "    current_pos = len(seed_ids)\n",
    "    \n",
    "    while current_pos < max_length:  # only sample up to 'max_length' tokens\n",
    "        logits_val = sess.run(logits_3d_gen, feed_dict={input_sequence: current_input})\n",
    "        # shape: [1, 169, n_tokens]\n",
    "        \n",
    "        idx_for_logits = current_pos - 1 if current_pos > 0 else 0\n",
    "        last_logits = logits_val[0, idx_for_logits, :]\n",
    "        \n",
    "        # Temperature\n",
    "        last_logits /= temperature\n",
    "        probs = np.exp(last_logits - np.max(last_logits))\n",
    "        probs /= np.sum(probs)\n",
    "        \n",
    "        next_token_id = np.random.choice(range(n_tokens), p=probs)\n",
    "        generated_ids.append(next_token_id)\n",
    "        \n",
    "        current_input[0, current_pos] = next_token_id\n",
    "        current_pos += 1\n",
    "    \n",
    "    # Convert IDs back to chars, ignoring pad\n",
    "    return ''.join(tokens[idx] for idx in generated_ids if tokens[idx] != \"#\")\n",
    "\n",
    "# ------------------------------------------------------------\n",
    "# 5) Generate Samples\n",
    "# ------------------------------------------------------------\n",
    "print(\"No Prefix:\")\n",
    "for _ in range(5):\n",
    "    print(iterative_generate_fixed_shape(sess, seed_phrase=\" \", max_length=60, temperature=1.0))\n",
    "\n",
    "print(\"\\nWith [2U] prefix:\")\n",
    "for _ in range(5):\n",
    "    print(iterative_generate_fixed_shape(sess, seed_phrase=\"[2U]\", max_length=60, temperature=1.0))\n"
   ]
  },
  {
   "cell_type": "markdown",
   "id": "1c4befaf-fa62-43f5-bab3-8db069f3cc82",
   "metadata": {},
   "source": [
    "## **Results Analysis & Next Steps**\n",
    "\n",
    "After **8,000 training steps** (with early stopping), I ended up with some great results, but still having some issues with some gibberish outputs\n",
    "\n",
    "\n",
    "### Observations\n",
    "\n",
    "- **Bracketed Mana Costs**: The model consistently places bracketed values (e.g., `[1W]`, `[5G]`, `[2U]`).\n",
    "- **Card Types & Format**: Lines often include “Creature,” “Enchantment,” “Instant,” or “Land,” resembling Magic: The Gathering entries.\n",
    "- **Invented Words**: Some tokens remain nonsensical or partially correct (e.g., “MightsAnt,” “Snath's Fxyx”). More training or hyperparameter tuning may reduce these artifacts.\n",
    "- **Occasional Oddities**: E.g., `[None] Land: Tuus` suggests the model can produce partial placeholders or uninitialized tokens.\n",
    "\n",
    "## **Best Next Step: Hyperparameter Tuning**\n",
    "\n",
    "To further **refine** the output and reduce gibberish tokens, we can perform a **hyperparameter search** (e.g., adjusting `embedding_size`, `lstm_num_units`, dropout, or learning rate). By systematically trying different combinations, we can often achieve **lower final loss** and more coherent text."
   ]
  },
  {
   "cell_type": "code",
   "execution_count": 100,
   "id": "5f1d9bba-e98b-42a8-aa9b-07eba2728c4f",
   "metadata": {},
   "outputs": [
    {
     "name": "stdout",
     "output_type": "stream",
     "text": [
      "Trial 1: emb=8, lstm_units=128\n",
      "Validation Loss: 0.5892\n",
      "\n",
      "Trial 2: emb=8, lstm_units=128\n",
      "Validation Loss: 0.6785\n",
      "\n",
      "Trial 3: emb=32, lstm_units=256\n",
      "Validation Loss: 0.3870\n",
      "\n",
      "Trial 4: emb=16, lstm_units=128\n",
      "Validation Loss: 0.5776\n",
      "\n",
      "Trial 5: emb=8, lstm_units=128\n",
      "Validation Loss: 0.5453\n",
      "\n",
      "Best combination: (32, 256) with val_loss= 0.38698918\n"
     ]
    }
   ],
   "source": [
    "import tensorflow.compat.v1 as tf\n",
    "tf.disable_v2_behavior()\n",
    "tf.reset_default_graph()\n",
    "\n",
    "import numpy as np\n",
    "import random\n",
    "\n",
    "# Example hyperparam search ranges\n",
    "EMBED_SIZES = [8, 16, 32]\n",
    "LSTM_UNITS = [64, 128, 256]\n",
    "TRIALS = 5\n",
    "TRAIN_STEPS = 1000\n",
    "BATCH_SIZE = 32\n",
    "best_combination = None\n",
    "best_val_loss = float('inf')\n",
    "\n",
    "def build_and_train(embedding_dim, lstm_units, lines_train, lines_val, n_tokens, to_matrix, max_len=169):\n",
    "    \"\"\"\n",
    "    Builds a 2-layer LSTM with given embedding_dim & lstm_units using Keras layers,\n",
    "    trains for TRAIN_STEPS, returns final validation loss.\n",
    "    \n",
    "    NOTE: We remove the old tf.compat.v1.nn.rnn_cell.LSTMCell calls, \n",
    "    since Keras 3 doesn't support them. Instead, we use tf.keras.layers.LSTM.\n",
    "    \"\"\"\n",
    "    # 1) Build graph\n",
    "    tf.reset_default_graph()\n",
    "    sess_local = tf.Session()\n",
    "    \n",
    "    # Placeholder for input\n",
    "    input_seq = tf.placeholder(tf.int32, [None, max_len], name=\"input_seq\")\n",
    "\n",
    "    # Keras embedding\n",
    "    embedding_layer = tf.keras.layers.Embedding(n_tokens, embedding_dim)\n",
    "    x_emb = embedding_layer(input_seq)  # shape: [batch_size, max_len, embedding_dim]\n",
    "\n",
    "    # Two Keras LSTM layers in sequence\n",
    "    # We'll do \"return_sequences=True\" on both to keep the full time-dimension\n",
    "    x_lstm1 = tf.keras.layers.LSTM(lstm_units, return_sequences=True)(x_emb)\n",
    "    x_lstm2 = tf.keras.layers.LSTM(lstm_units, return_sequences=True)(x_lstm1)\n",
    "    \n",
    "    # Final dense to produce logits (no activation => linear)\n",
    "    logits_3d = tf.keras.layers.Dense(n_tokens)(x_lstm2)  # shape: [batch_size, max_len, n_tokens]\n",
    "    \n",
    "    # Skip last time step for training\n",
    "    logits_3d_train = logits_3d[:, :-1, :]  # shape: [batch_size, max_len-1, n_tokens]\n",
    "    targets_train = tf.reshape(input_seq[:, 1:], [-1])  # shift input by 1\n",
    "    max_len_minus_1 = tf.shape(logits_3d_train)[1]\n",
    "    batch_size_dyn = tf.shape(logits_3d_train)[0]\n",
    "    targets_train = targets_train[: batch_size_dyn * max_len_minus_1]\n",
    "    \n",
    "    logits_2d_train = tf.reshape(logits_3d_train, [-1, n_tokens])\n",
    "    loss_per_timestep = tf.nn.sparse_softmax_cross_entropy_with_logits(\n",
    "        labels=targets_train, logits=logits_2d_train\n",
    "    )\n",
    "    loss_op = tf.reduce_mean(loss_per_timestep)\n",
    "    \n",
    "    train_op = tf.train.AdamOptimizer().minimize(loss_op)\n",
    "    \n",
    "    sess_local.run(tf.global_variables_initializer())\n",
    "    \n",
    "    # 2) Training\n",
    "    for step in range(TRAIN_STEPS):\n",
    "        batch_lines = random.sample(lines_train, BATCH_SIZE)\n",
    "        X_batch = to_matrix(batch_lines, max_len=max_len)\n",
    "        sess_local.run(train_op, feed_dict={input_seq: X_batch})\n",
    "    \n",
    "    # 3) Validation loss\n",
    "    val_lines = random.sample(lines_val, BATCH_SIZE)\n",
    "    X_val = to_matrix(val_lines, max_len=max_len)\n",
    "    val_loss = sess_local.run(loss_op, feed_dict={input_seq: X_val})\n",
    "    \n",
    "    sess_local.close()\n",
    "    return val_loss\n",
    "\n",
    "for trial in range(TRIALS):\n",
    "    # Random pick\n",
    "    emb_dim = random.choice(EMBED_SIZES)\n",
    "    lstm_u = random.choice(LSTM_UNITS)\n",
    "    print(f\"Trial {trial+1}: emb={emb_dim}, lstm_units={lstm_u}\")\n",
    "    \n",
    "    val_loss_trial = build_and_train(\n",
    "        emb_dim, lstm_u,\n",
    "        lines_train, lines_val,\n",
    "        n_tokens, to_matrix,\n",
    "        max_len=MAX_LENGTH\n",
    "    )\n",
    "    print(f\"Validation Loss: {val_loss_trial:.4f}\\n\")\n",
    "    \n",
    "    if val_loss_trial < best_val_loss:\n",
    "        best_val_loss = val_loss_trial\n",
    "        best_combination = (emb_dim, lstm_u)\n",
    "\n",
    "print(\"Best combination:\", best_combination, \"with val_loss=\", best_val_loss)\n"
   ]
  },
  {
   "cell_type": "markdown",
   "id": "ba0db8fa-8c96-4657-8e56-e923396705ae",
   "metadata": {},
   "source": [
    "## Hyperparameter Search Results\n",
    "\n",
    "I performed **5 trials** of hyperparameter search, randomly picking embedding size and LSTM units from predefined ranges. After training for 1,000 steps on each trial, we computed validation loss on a small validation batch. Below are the outcomes:\n",
    "\n"
   ]
  },
  {
   "cell_type": "markdown",
   "id": "256a17be-445b-4b80-80b2-bb67574112be",
   "metadata": {},
   "source": [
    "\n",
    "**Best combination**: `(embedding_size=32, lstm_units=256)` with a final **validation loss** of **0.38698918**.\n",
    "\n",
    "### Observations\n",
    "1. **Embedding & LSTM Units Matter**: Trials with small embedding sizes (e.g., 8) and moderate LSTM units (e.g., 128) generally yielded higher validation losses than a larger embedding (32) with a bigger hidden state (256).\n",
    "2. **Random Search**: Even a small number of trials can find a significantly better combination, as shown by the large drop from ~0.58–0.68 validation loss to ~0.39.\n",
    "\n",
    "### Next Steps\n",
    "1. **Use the Best Combination**: Adopt `embedding_size=32` and `lstm_units=256` for longer training (e.g., 5,000–10,000 steps).  \n",
    "2. **Refine Training**: Add a validation-based early stopping or tune learning rate, batch size, or dropout to further lower the validation loss.  \n",
    "3. **Iterative Generation**: After training a final model with these hyperparameters, generate text lines (e.g., `[mana cost] type: name`) using the iterative approach in a single graph.  \n",
    "\n",
    "By combining the **best** hyperparameters from this search with extended training and a stable generation method, I'm expecting more coherent and realistic Magic: The Gathering card lines.\n"
   ]
  },
  {
   "cell_type": "markdown",
   "id": "534b04b3-dfce-4393-b136-949032ae1908",
   "metadata": {},
   "source": [
    "## Next Steps: Training a Final Model with Best Hyperparameters\n",
    "\n",
    "Having identified `(embedding_size=32, lstm_units=256)` as the **best combination** from our quick hyperparameter search, I’ll now **train** a final model with these settings for a larger number of steps (e.g., 5,000–10,000) and then **generate** text lines.\n",
    "\n",
    "Below is the **combined code** that:\n",
    "1. **Builds** a two-layer LSTM with `embedding_size=32` and `lstm_units=256`.\n",
    "2. **Trains** the model using the same skip-last-time-step approach for next-token prediction.\n",
    "3. **Implements** an iterative generation method in the same code cell to avoid graph mismatches.\n",
    "\n"
   ]
  },
  {
   "cell_type": "code",
   "execution_count": 101,
   "id": "8db311c6-2cba-408f-9901-2429b34a6b71",
   "metadata": {},
   "outputs": [
    {
     "name": "stdout",
     "output_type": "stream",
     "text": [
      "Step 500/8000, Train loss=0.6011, Val loss=0.5550\n",
      "Step 1000/8000, Train loss=0.3479, Val loss=0.3872\n",
      "Step 1500/8000, Train loss=0.3661, Val loss=0.3178\n",
      "Step 2000/8000, Train loss=0.2850, Val loss=0.3085\n",
      "Step 2500/8000, Train loss=0.2929, Val loss=0.2922\n",
      "Step 3000/8000, Train loss=0.2567, Val loss=0.2770\n",
      "Step 3500/8000, Train loss=0.2539, Val loss=0.2971\n",
      "Step 4000/8000, Train loss=0.2589, Val loss=0.2750\n",
      "Step 4500/8000, Train loss=0.2141, Val loss=0.2556\n",
      "Step 5000/8000, Train loss=0.2122, Val loss=0.2446\n",
      "Step 5500/8000, Train loss=0.2197, Val loss=0.2254\n",
      "Step 6000/8000, Train loss=0.2112, Val loss=0.2287\n",
      "Step 6500/8000, Train loss=0.1976, Val loss=0.2198\n",
      "Step 7000/8000, Train loss=0.1922, Val loss=0.2231\n",
      "Step 7500/8000, Train loss=0.1851, Val loss=0.2191\n",
      "Step 8000/8000, Train loss=0.1788, Val loss=0.2222\n"
     ]
    },
    {
     "data": {
      "image/png": "[encoded data removed]",
      "text/plain": [
       "<Figure size 640x480 with 1 Axes>"
      ]
     },
     "metadata": {},
     "output_type": "display_data"
    },
    {
     "name": "stdout",
     "output_type": "stream",
     "text": [
      "No Prefix:\n",
      " [None] Creature, Horsy Skeleton: Suntreast of the Nedrel\n",
      " [2] Artifact Creature, Construct: Sbillew Welder\n",
      " [5G] Creature, Efred: Skull Calamiy\n",
      " [3U] Creature, Dragon: Torc Wizar\n",
      " [5R] Creature, Beast: Axob Couzery\n",
      "\n",
      "With [2U] prefix:\n",
      "[2U] Instant: E.\n",
      "[2U] Artalt, Eldrazi :riftskrouk Mawler\n",
      "[2U] Instant: Aetherinds\n",
      "[2U] Instant: Hinders\n",
      "[2U] Instant: Pulson of Kit\n"
     ]
    }
   ],
   "source": [
    "import tensorflow.compat.v1 as tf\n",
    "tf.disable_v2_behavior()\n",
    "tf.reset_default_graph()\n",
    "\n",
    "import numpy as np\n",
    "import random\n",
    "import matplotlib.pyplot as plt\n",
    "from tensorflow.keras.layers import Embedding, LSTM, Dense\n",
    "\n",
    "# -----------------------------\n",
    "# 1) Hyperparameters & Data\n",
    "# -----------------------------\n",
    "EMBED_SIZE = 32\n",
    "LSTM_UNITS = 256\n",
    "LEARNING_RATE = 1e-3\n",
    "N_STEPS = 8000  # or more, e.g. 10,000\n",
    "BATCH_SIZE = 32\n",
    "MAX_LENGTH = 169\n",
    "\n",
    "# -----------------------------\n",
    "# 2) Build Model in Single Graph\n",
    "# -----------------------------\n",
    "sess = tf.Session()\n",
    "input_seq = tf.placeholder(tf.int32, [None, MAX_LENGTH], name=\"input_seq\")\n",
    "\n",
    "# Keras layers\n",
    "embedding_layer = Embedding(n_tokens, EMBED_SIZE)\n",
    "x_emb = embedding_layer(input_seq)  # shape: [batch_size, MAX_LENGTH, EMBED_SIZE]\n",
    "\n",
    "# Two LSTM layers, each with return_sequences=True\n",
    "x_lstm1 = LSTM(LSTM_UNITS, return_sequences=True)(x_emb)\n",
    "x_lstm2 = LSTM(LSTM_UNITS, return_sequences=True)(x_lstm1)\n",
    "\n",
    "# Final dense for logits\n",
    "logits_3d_main = Dense(n_tokens)(x_lstm2)  # shape: [batch_size, MAX_LENGTH, n_tokens]\n",
    "\n",
    "# For training, skip last time step\n",
    "logits_3d_train = logits_3d_main[:, :-1, :]\n",
    "targets_train = tf.reshape(input_seq[:, 1:], [-1])  # shift input by 1\n",
    "max_len_minus_1 = tf.shape(logits_3d_train)[1]\n",
    "batch_size_dyn = tf.shape(logits_3d_train)[0]\n",
    "targets_train = targets_train[: batch_size_dyn * max_len_minus_1]\n",
    "\n",
    "logits_2d_train = tf.reshape(logits_3d_train, [-1, n_tokens])\n",
    "loss_per_timestep = tf.nn.sparse_softmax_cross_entropy_with_logits(\n",
    "    labels=targets_train,\n",
    "    logits=logits_2d_train\n",
    ")\n",
    "loss_op = tf.reduce_mean(loss_per_timestep)\n",
    "\n",
    "train_op = tf.train.AdamOptimizer(LEARNING_RATE).minimize(loss_op)\n",
    "\n",
    "sess.run(tf.global_variables_initializer())\n",
    "\n",
    "# -----------------------------\n",
    "# 3) Training with Validation\n",
    "# -----------------------------\n",
    "train_history = []\n",
    "val_history = []\n",
    "best_val_loss = float('inf')\n",
    "patience = 5\n",
    "patience_counter = 0\n",
    "\n",
    "def compute_validation_loss():\n",
    "    batch_lines_val = random.sample(lines_val, BATCH_SIZE)\n",
    "    X_val = to_matrix(batch_lines_val, max_len=MAX_LENGTH)\n",
    "    return sess.run(loss_op, feed_dict={input_seq: X_val})\n",
    "\n",
    "for step in range(N_STEPS):\n",
    "    batch_lines_train = random.sample(lines_train, BATCH_SIZE)\n",
    "    X_batch = to_matrix(batch_lines_train, max_len=MAX_LENGTH)\n",
    "    \n",
    "    train_loss_val, _ = sess.run([loss_op, train_op], feed_dict={input_seq: X_batch})\n",
    "    train_history.append(train_loss_val)\n",
    "    \n",
    "    # Every 500 steps, check validation\n",
    "    if (step + 1) % 500 == 0:\n",
    "        val_loss_now = compute_validation_loss()\n",
    "        val_history.append(val_loss_now)\n",
    "        print(f\"Step {step+1}/{N_STEPS}, Train loss={train_loss_val:.4f}, Val loss={val_loss_now:.4f}\")\n",
    "        \n",
    "        if val_loss_now < best_val_loss:\n",
    "            best_val_loss = val_loss_now\n",
    "            patience_counter = 0\n",
    "        else:\n",
    "            patience_counter += 1\n",
    "        \n",
    "        if patience_counter >= patience:\n",
    "            print(\"Early stopping triggered.\")\n",
    "            break\n",
    "\n",
    "# Plot training vs validation\n",
    "plt.plot(train_history, label='train_loss')\n",
    "x_vals = np.arange(499, len(train_history), 500)\n",
    "plt.plot(x_vals, val_history, label='val_loss')\n",
    "plt.xlabel(\"Steps\")\n",
    "plt.ylabel(\"Loss\")\n",
    "plt.title(\"Final Model Training (Embedding=32, LSTM=256)\")\n",
    "plt.legend()\n",
    "plt.show()\n",
    "\n",
    "# -----------------------------\n",
    "# 4) Iterative Generation\n",
    "# -----------------------------\n",
    "def iterative_generate_fixed_shape(\n",
    "    seed_phrase=\" \",\n",
    "    max_length=60,\n",
    "    temperature=1.0\n",
    "):\n",
    "    \"\"\"\n",
    "    We'll feed (1, MAX_LENGTH=169) each iteration, but only sample up to 'max_length'.\n",
    "    \"\"\"\n",
    "    pad_id = token_to_id[\"#\"]\n",
    "    seed_ids = [token_to_id[ch] for ch in seed_phrase]\n",
    "    \n",
    "    if len(seed_ids) > MAX_LENGTH:\n",
    "        raise ValueError(\"Seed phrase longer than 169.\")\n",
    "    \n",
    "    # Prepare (1, 169)\n",
    "    current_input = np.full((1, MAX_LENGTH), pad_id, dtype=np.int32)\n",
    "    current_input[0, :len(seed_ids)] = seed_ids\n",
    "    \n",
    "    generated_ids = list(seed_ids)\n",
    "    current_pos = len(seed_ids)\n",
    "    \n",
    "    while current_pos < max_length:\n",
    "        logits_val = sess.run(logits_3d_main, feed_dict={input_seq: current_input})\n",
    "        # shape: [1, 169, n_tokens]\n",
    "        \n",
    "        idx_for_logits = current_pos - 1 if current_pos > 0 else 0\n",
    "        last_logits = logits_val[0, idx_for_logits, :]\n",
    "        \n",
    "        # Temperature\n",
    "        last_logits /= temperature\n",
    "        probs = np.exp(last_logits - np.max(last_logits))\n",
    "        probs /= np.sum(probs)\n",
    "        \n",
    "        next_token_id = np.random.choice(range(n_tokens), p=probs)\n",
    "        generated_ids.append(next_token_id)\n",
    "        \n",
    "        current_input[0, current_pos] = next_token_id\n",
    "        current_pos += 1\n",
    "    \n",
    "    # Convert IDs -> chars, ignoring pad\n",
    "    return ''.join(tokens[idx] for idx in generated_ids if tokens[idx] != \"#\")\n",
    "\n",
    "# -----------------------------\n",
    "# 5) Generate Samples\n",
    "# -----------------------------\n",
    "print(\"No Prefix:\")\n",
    "for _ in range(5):\n",
    "    print(iterative_generate_fixed_shape(seed_phrase=\" \", max_length=60, temperature=1.0))\n",
    "\n",
    "print(\"\\nWith [2U] prefix:\")\n",
    "for _ in range(5):\n",
    "    print(iterative_generate_fixed_shape(seed_phrase=\"[2U]\", max_length=60, temperature=1.0))\n"
   ]
  },
  {
   "cell_type": "code",
   "execution_count": 104,
   "id": "6f3af4d4-5018-4fa6-ba26-edc0d92e1d59",
   "metadata": {},
   "outputs": [
    {
     "name": "stdin",
     "output_type": "stream",
     "text": [
      "Enter your prefix (type 'none' or leave blank for random generation):  \n"
     ]
    },
    {
     "name": "stdout",
     "output_type": "stream",
     "text": [
      "\n",
      "Generated Text:\n",
      " [U] Creature, Shapethister: Zainflame Inrentilor\n",
      "\n"
     ]
    }
   ],
   "source": [
    "def generate_from_user_input():\n",
    "    \"\"\"\n",
    "    Prompts the user for a seed phrase (prefix).\n",
    "    If user enters 'none' or an empty string, use a blank prefix for random text.\n",
    "    Then generates a line using iterative_generate_fixed_shape with fixed max_length=60 and temperature=1.0.\n",
    "    \"\"\"\n",
    "    user_seed = input(\"Enter your prefix (type 'none' or leave blank for random generation): \")\n",
    "    # If user input is 'none' or empty, we treat it as blank space seed\n",
    "    if not user_seed.strip() or user_seed.strip().lower() == 'none':\n",
    "        user_seed = \" \"\n",
    "    \n",
    "    # Generate with fixed max_length=60 and temperature=1.0\n",
    "    output_text = iterative_generate_fixed_shape(\n",
    "        seed_phrase=user_seed,\n",
    "        max_length=60,\n",
    "        temperature=1.0\n",
    "    )\n",
    "    print(f\"\\nGenerated Text:\\n{output_text}\\n\")\n",
    "\n",
    "# Example usage (uncomment to run interactively):\n",
    "generate_from_user_input()\n"
   ]
  },
  {
   "cell_type": "code",
   "execution_count": null,
   "id": "5202f74b-8092-4d9b-bfdf-2fb47e9d5ded",
   "metadata": {},
   "outputs": [],
   "source": []
  }
 ],
 "metadata": {
  "kernelspec": {
   "display_name": "Python 3 (ipykernel)",
   "language": "python",
   "name": "python3"
  },
  "language_info": {
   "codemirror_mode": {
    "name": "ipython",
    "version": 3
   },
   "file_extension": ".py",
   "mimetype": "text/x-python",
   "name": "python",
   "nbconvert_exporter": "python",
   "pygments_lexer": "ipython3",
   "version": "3.12.7"
  }
 },
 "nbformat": 4,
 "nbformat_minor": 5
}
