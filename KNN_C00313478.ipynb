{
 "cells": [
  {
   "cell_type": "markdown",
   "metadata": {},
   "source": [
    "## Name: Sai Ram Gunturu\n",
    "## ID: C00313478\n",
    "## MSc in Data Science"
   ]
  },
  {
   "cell_type": "markdown",
   "metadata": {},
   "source": [
    "# Revised K-Nearest Neighbors Notebook\n",
    "\n",
    "### **Overview of Changes Implemented:**\n",
    "\n",
    "##### - **New Dataset:** Replaced the original \"Classified Data\" with the Breast Cancer Wisconsin dataset (from scikit‑learn).  \n",
    "##### - **Enhanced Hyperparameter Tuning:** Employed `GridSearchCV` to optimize both `n_neighbors` and the Minkowski distance parameter (`p`).  \n",
    "##### - **Algorithm Variants:** Built and compared two KNN models:\n",
    "#####  - KNN with **uniform** weights (each neighbor contributes equally).\n",
    "#####  - KNN with **distance** weights (closer neighbors have more influence).\n",
    "##### - **Expanded Evaluation:** Added error rate plotting and ROC curve analysis to deepen performance insights.\n",
    "##### - **Documentation:** Each section is annotated (following a CRISP-DM approach) to log the modifications and the rationale behind them.\n"
   ]
  },
  {
   "cell_type": "markdown",
   "metadata": {},
   "source": [
    "#### 1. Import Dependencies\n",
    "\n",
    "##### **Changes:**  \n",
    "###### - Added imports for the Breast Cancer dataset, GridSearchCV, and additional evaluation metrics (ROC, AUC).  \n",
    "###### - Retained visualization and preprocessing libraries.\n"
   ]
  },
  {
   "cell_type": "code",
   "execution_count": 1,
   "metadata": {},
   "outputs": [],
   "source": [
    "# Import dependencies\n",
    "\n",
    "import pandas as pd\n",
    "import numpy as np\n",
    "import matplotlib.pyplot as plt\n",
    "import seaborn as sns\n",
    "\n",
    "# Import dataset and model selection tools\n",
    "\n",
    "from sklearn.datasets import load_breast_cancer\n",
    "from sklearn.model_selection import train_test_split, GridSearchCV\n",
    "from sklearn.preprocessing import StandardScaler\n",
    "from sklearn.neighbors import KNeighborsClassifier\n",
    "from sklearn.metrics import classification_report, confusion_matrix, accuracy_score, roc_curve, auc\n",
    "\n",
    "sns.set(style=\"whitegrid\")\n",
    "%matplotlib inline\n"
   ]
  },
  {
   "cell_type": "markdown",
   "metadata": {},
   "source": [
    "#### 2. Data Loading and Exploration\n",
    "\n",
    "##### **Changes:**  \n",
    "###### - **New Dataset:** Loaded the Breast Cancer Wisconsin dataset instead of the original classified data.\n",
    "###### - **Exploration:** Displayed basic structure and target distribution.\n"
   ]
  },
  {
   "cell_type": "code",
   "execution_count": 2,
   "metadata": {},
   "outputs": [],
   "source": [
    "# Load the Breast Cancer dataset from scikit-learn\n",
    "\n",
    "cancer = load_breast_cancer()\n",
    "df_features = pd.DataFrame(cancer.data, columns=cancer.feature_names)\n",
    "df_target = pd.Series(cancer.target, name='target')"
   ]
  },
  {
   "cell_type": "code",
   "execution_count": 3,
   "metadata": {},
   "outputs": [
    {
     "name": "stdout",
     "output_type": "stream",
     "text": [
      "Features shape: (569, 30)\n",
      "Target distribution:\n",
      " target\n",
      "1    357\n",
      "0    212\n",
      "Name: count, dtype: int64\n"
     ]
    }
   ],
   "source": [
    "# Display dataset shape and target distribution\n",
    "\n",
    "print(\"Features shape:\", df_features.shape)\n",
    "print(\"Target distribution:\\n\", df_target.value_counts())"
   ]
  },
  {
   "cell_type": "code",
   "execution_count": 4,
   "metadata": {},
   "outputs": [
    {
     "data": {
      "text/html": [
       "<div>\n",
       "<style scoped>\n",
       "    .dataframe tbody tr th:only-of-type {\n",
       "        vertical-align: middle;\n",
       "    }\n",
       "\n",
       "    .dataframe tbody tr th {\n",
       "        vertical-align: top;\n",
       "    }\n",
       "\n",
       "    .dataframe thead th {\n",
       "        text-align: right;\n",
       "    }\n",
       "</style>\n",
       "<table border=\"1\" class=\"dataframe\">\n",
       "  <thead>\n",
       "    <tr style=\"text-align: right;\">\n",
       "      <th></th>\n",
       "      <th>mean radius</th>\n",
       "      <th>mean texture</th>\n",
       "      <th>mean perimeter</th>\n",
       "      <th>mean area</th>\n",
       "      <th>mean smoothness</th>\n",
       "      <th>mean compactness</th>\n",
       "      <th>mean concavity</th>\n",
       "      <th>mean concave points</th>\n",
       "      <th>mean symmetry</th>\n",
       "      <th>mean fractal dimension</th>\n",
       "      <th>...</th>\n",
       "      <th>worst radius</th>\n",
       "      <th>worst texture</th>\n",
       "      <th>worst perimeter</th>\n",
       "      <th>worst area</th>\n",
       "      <th>worst smoothness</th>\n",
       "      <th>worst compactness</th>\n",
       "      <th>worst concavity</th>\n",
       "      <th>worst concave points</th>\n",
       "      <th>worst symmetry</th>\n",
       "      <th>worst fractal dimension</th>\n",
       "    </tr>\n",
       "  </thead>\n",
       "  <tbody>\n",
       "    <tr>\n",
       "      <th>0</th>\n",
       "      <td>17.99</td>\n",
       "      <td>10.38</td>\n",
       "      <td>122.80</td>\n",
       "      <td>1001.0</td>\n",
       "      <td>0.11840</td>\n",
       "      <td>0.27760</td>\n",
       "      <td>0.3001</td>\n",
       "      <td>0.14710</td>\n",
       "      <td>0.2419</td>\n",
       "      <td>0.07871</td>\n",
       "      <td>...</td>\n",
       "      <td>25.38</td>\n",
       "      <td>17.33</td>\n",
       "      <td>184.60</td>\n",
       "      <td>2019.0</td>\n",
       "      <td>0.1622</td>\n",
       "      <td>0.6656</td>\n",
       "      <td>0.7119</td>\n",
       "      <td>0.2654</td>\n",
       "      <td>0.4601</td>\n",
       "      <td>0.11890</td>\n",
       "    </tr>\n",
       "    <tr>\n",
       "      <th>1</th>\n",
       "      <td>20.57</td>\n",
       "      <td>17.77</td>\n",
       "      <td>132.90</td>\n",
       "      <td>1326.0</td>\n",
       "      <td>0.08474</td>\n",
       "      <td>0.07864</td>\n",
       "      <td>0.0869</td>\n",
       "      <td>0.07017</td>\n",
       "      <td>0.1812</td>\n",
       "      <td>0.05667</td>\n",
       "      <td>...</td>\n",
       "      <td>24.99</td>\n",
       "      <td>23.41</td>\n",
       "      <td>158.80</td>\n",
       "      <td>1956.0</td>\n",
       "      <td>0.1238</td>\n",
       "      <td>0.1866</td>\n",
       "      <td>0.2416</td>\n",
       "      <td>0.1860</td>\n",
       "      <td>0.2750</td>\n",
       "      <td>0.08902</td>\n",
       "    </tr>\n",
       "    <tr>\n",
       "      <th>2</th>\n",
       "      <td>19.69</td>\n",
       "      <td>21.25</td>\n",
       "      <td>130.00</td>\n",
       "      <td>1203.0</td>\n",
       "      <td>0.10960</td>\n",
       "      <td>0.15990</td>\n",
       "      <td>0.1974</td>\n",
       "      <td>0.12790</td>\n",
       "      <td>0.2069</td>\n",
       "      <td>0.05999</td>\n",
       "      <td>...</td>\n",
       "      <td>23.57</td>\n",
       "      <td>25.53</td>\n",
       "      <td>152.50</td>\n",
       "      <td>1709.0</td>\n",
       "      <td>0.1444</td>\n",
       "      <td>0.4245</td>\n",
       "      <td>0.4504</td>\n",
       "      <td>0.2430</td>\n",
       "      <td>0.3613</td>\n",
       "      <td>0.08758</td>\n",
       "    </tr>\n",
       "    <tr>\n",
       "      <th>3</th>\n",
       "      <td>11.42</td>\n",
       "      <td>20.38</td>\n",
       "      <td>77.58</td>\n",
       "      <td>386.1</td>\n",
       "      <td>0.14250</td>\n",
       "      <td>0.28390</td>\n",
       "      <td>0.2414</td>\n",
       "      <td>0.10520</td>\n",
       "      <td>0.2597</td>\n",
       "      <td>0.09744</td>\n",
       "      <td>...</td>\n",
       "      <td>14.91</td>\n",
       "      <td>26.50</td>\n",
       "      <td>98.87</td>\n",
       "      <td>567.7</td>\n",
       "      <td>0.2098</td>\n",
       "      <td>0.8663</td>\n",
       "      <td>0.6869</td>\n",
       "      <td>0.2575</td>\n",
       "      <td>0.6638</td>\n",
       "      <td>0.17300</td>\n",
       "    </tr>\n",
       "    <tr>\n",
       "      <th>4</th>\n",
       "      <td>20.29</td>\n",
       "      <td>14.34</td>\n",
       "      <td>135.10</td>\n",
       "      <td>1297.0</td>\n",
       "      <td>0.10030</td>\n",
       "      <td>0.13280</td>\n",
       "      <td>0.1980</td>\n",
       "      <td>0.10430</td>\n",
       "      <td>0.1809</td>\n",
       "      <td>0.05883</td>\n",
       "      <td>...</td>\n",
       "      <td>22.54</td>\n",
       "      <td>16.67</td>\n",
       "      <td>152.20</td>\n",
       "      <td>1575.0</td>\n",
       "      <td>0.1374</td>\n",
       "      <td>0.2050</td>\n",
       "      <td>0.4000</td>\n",
       "      <td>0.1625</td>\n",
       "      <td>0.2364</td>\n",
       "      <td>0.07678</td>\n",
       "    </tr>\n",
       "  </tbody>\n",
       "</table>\n",
       "<p>5 rows × 30 columns</p>\n",
       "</div>"
      ],
      "text/plain": [
       "   mean radius  mean texture  mean perimeter  mean area  mean smoothness  \\\n",
       "0        17.99         10.38          122.80     1001.0          0.11840   \n",
       "1        20.57         17.77          132.90     1326.0          0.08474   \n",
       "2        19.69         21.25          130.00     1203.0          0.10960   \n",
       "3        11.42         20.38           77.58      386.1          0.14250   \n",
       "4        20.29         14.34          135.10     1297.0          0.10030   \n",
       "\n",
       "   mean compactness  mean concavity  mean concave points  mean symmetry  \\\n",
       "0           0.27760          0.3001              0.14710         0.2419   \n",
       "1           0.07864          0.0869              0.07017         0.1812   \n",
       "2           0.15990          0.1974              0.12790         0.2069   \n",
       "3           0.28390          0.2414              0.10520         0.2597   \n",
       "4           0.13280          0.1980              0.10430         0.1809   \n",
       "\n",
       "   mean fractal dimension  ...  worst radius  worst texture  worst perimeter  \\\n",
       "0                 0.07871  ...         25.38          17.33           184.60   \n",
       "1                 0.05667  ...         24.99          23.41           158.80   \n",
       "2                 0.05999  ...         23.57          25.53           152.50   \n",
       "3                 0.09744  ...         14.91          26.50            98.87   \n",
       "4                 0.05883  ...         22.54          16.67           152.20   \n",
       "\n",
       "   worst area  worst smoothness  worst compactness  worst concavity  \\\n",
       "0      2019.0            0.1622             0.6656           0.7119   \n",
       "1      1956.0            0.1238             0.1866           0.2416   \n",
       "2      1709.0            0.1444             0.4245           0.4504   \n",
       "3       567.7            0.2098             0.8663           0.6869   \n",
       "4      1575.0            0.1374             0.2050           0.4000   \n",
       "\n",
       "   worst concave points  worst symmetry  worst fractal dimension  \n",
       "0                0.2654          0.4601                  0.11890  \n",
       "1                0.1860          0.2750                  0.08902  \n",
       "2                0.2430          0.3613                  0.08758  \n",
       "3                0.2575          0.6638                  0.17300  \n",
       "4                0.1625          0.2364                  0.07678  \n",
       "\n",
       "[5 rows x 30 columns]"
      ]
     },
     "execution_count": 4,
     "metadata": {},
     "output_type": "execute_result"
    }
   ],
   "source": [
    "# Show first 5 rows of the features DataFrame\n",
    "\n",
    "df_features.head()"
   ]
  },
  {
   "cell_type": "markdown",
   "metadata": {},
   "source": [
    "#### 3. Data Preparation\n",
    "\n",
    "##### **Changes:**  \n",
    "###### - **Standardization:** Applied `StandardScaler` to normalize the features (similar to original, but now on a new dataset).  \n",
    "###### - **Train-Test Split:** Performed a stratified split to maintain the target distribution.\n"
   ]
  },
  {
   "cell_type": "code",
   "execution_count": 5,
   "metadata": {},
   "outputs": [],
   "source": [
    "# Standardize features using StandardScaler\n",
    "\n",
    "scaler = StandardScaler()\n",
    "scaled_features = scaler.fit_transform(df_features)\n",
    "df_scaled = pd.DataFrame(scaled_features, columns=df_features.columns)"
   ]
  },
  {
   "cell_type": "code",
   "execution_count": 6,
   "metadata": {},
   "outputs": [
    {
     "name": "stdout",
     "output_type": "stream",
     "text": [
      "Training samples: 398\n",
      "Testing samples: 171\n"
     ]
    }
   ],
   "source": [
    "# Split data into training and testing sets (70/30 split) with stratification\n",
    "\n",
    "X_train, X_test, y_train, y_test = train_test_split(\n",
    "    df_scaled, df_target, test_size=0.3, random_state=101, stratify=df_target\n",
    ")\n",
    "\n",
    "print(\"Training samples:\", X_train.shape[0])\n",
    "print(\"Testing samples:\", X_test.shape[0])\n"
   ]
  },
  {
   "cell_type": "markdown",
   "metadata": {},
   "source": [
    "#### 4. Modeling & Hyperparameter Tuning\n",
    "\n",
    "##### **Changes:**  \n",
    "###### - **GridSearchCV:** Used `GridSearchCV` to find the optimal number of neighbors (`n_neighbors`) and the Minkowski distance parameter (`p`), which determines whether to use Manhattan (p=1) or Euclidean (p=2) distance.\n",
    "###### - **Algorithm Variants:** Built two KNN models:\n",
    "######  - One with **uniform** weights.\n",
    "######  - One with **distance** weights.\n"
   ]
  },
  {
   "cell_type": "code",
   "execution_count": 7,
   "metadata": {},
   "outputs": [],
   "source": [
    "# Define parameter grid for hyperparameter tuning\n",
    "\n",
    "param_grid = {\n",
    "    'n_neighbors': np.arange(1, 31),\n",
    "    'p': [1, 2]  # p=1: Manhattan distance, p=2: Euclidean distance\n",
    "}"
   ]
  },
  {
   "cell_type": "code",
   "execution_count": 8,
   "metadata": {},
   "outputs": [
    {
     "name": "stdout",
     "output_type": "stream",
     "text": [
      "Best parameters (uniform weights): {'n_neighbors': np.int64(3), 'p': 2}\n"
     ]
    }
   ],
   "source": [
    "# Grid search for KNN with uniform weights\n",
    "\n",
    "knn_uniform = KNeighborsClassifier(weights='uniform')\n",
    "grid_uniform = GridSearchCV(knn_uniform, param_grid, cv=5)\n",
    "grid_uniform.fit(X_train, y_train)\n",
    "print(\"Best parameters (uniform weights):\", grid_uniform.best_params_)"
   ]
  },
  {
   "cell_type": "code",
   "execution_count": 9,
   "metadata": {},
   "outputs": [
    {
     "name": "stdout",
     "output_type": "stream",
     "text": [
      "Best parameters (distance weights): {'n_neighbors': np.int64(3), 'p': 2}\n"
     ]
    }
   ],
   "source": [
    "# Grid search for KNN with distance weights\n",
    "\n",
    "knn_distance = KNeighborsClassifier(weights='distance')\n",
    "grid_distance = GridSearchCV(knn_distance, param_grid, cv=5)\n",
    "grid_distance.fit(X_train, y_train)\n",
    "print(\"Best parameters (distance weights):\", grid_distance.best_params_)"
   ]
  },
  {
   "cell_type": "code",
   "execution_count": 10,
   "metadata": {},
   "outputs": [],
   "source": [
    "# Select the best estimators from each grid search\n",
    "\n",
    "best_knn_uniform = grid_uniform.best_estimator_\n",
    "best_knn_distance = grid_distance.best_estimator_"
   ]
  },
  {
   "cell_type": "markdown",
   "metadata": {},
   "source": [
    "#### Explanation of Hyperparameter Tuning Results\n",
    "\n",
    "###### The GridSearchCV results indicate that for both the KNN model with **uniform weights** and the model with **distance weights**, the optimal hyperparameters are:\n",
    "\n",
    "##### - **n_neighbors:** 3  \n",
    "######  This means that considering the 3 nearest neighbors provides the best balance between bias and variance during cross-validation.\n",
    "\n",
    "##### - **p:** 2  \n",
    "######  Here, `p=2` corresponds to using the Euclidean distance metric (a special case of the Minkowski distance), suggesting that the Euclidean distance is most effective for this dataset.\n",
    "\n",
    "##### **Key Takeaways:**\n",
    "\n",
    "##### - **Consistency Across Weighting Schemes:**  \n",
    "######  Both the uniform and distance weighted models yielded the same optimal parameters, implying that the classifier's performance is robust regardless of how neighbor contributions are weighted.\n",
    "\n",
    "##### - **Impact on Model Performance:**  \n",
    "######  Selecting 3 neighbors minimizes the error rate as observed in the tuning process, which translates into better classification accuracy on the test set.\n",
    "\n",
    "##### Overall, these results provide confidence that the chosen hyperparameters (3 neighbors with Euclidean distance) are well-suited for the Breast Cancer dataset in this context.\n"
   ]
  },
  {
   "cell_type": "markdown",
   "metadata": {},
   "source": [
    "#### 5. Model Evaluation\n",
    "\n",
    "##### **Changes:**  \n",
    "###### - **Evaluation Metrics:** Computed classification reports and confusion matrices for both KNN variants.\n",
    "###### - **Comparison:** Evaluated the performance of the uniform and distance weighting models on the test set.\n"
   ]
  },
  {
   "cell_type": "code",
   "execution_count": 12,
   "metadata": {},
   "outputs": [
    {
     "name": "stdout",
     "output_type": "stream",
     "text": [
      "=== Uniform Weights Model ===\n",
      "              precision    recall  f1-score   support\n",
      "\n",
      "           0       0.95      0.91      0.93        64\n",
      "           1       0.95      0.97      0.96       107\n",
      "\n",
      "    accuracy                           0.95       171\n",
      "   macro avg       0.95      0.94      0.94       171\n",
      "weighted avg       0.95      0.95      0.95       171\n",
      "\n",
      "Accuracy (Uniform): 0.9473684210526315\n",
      "Confusion Matrix (Uniform):\n",
      " [[ 58   6]\n",
      " [  3 104]]\n"
     ]
    }
   ],
   "source": [
    "# Evaluate the KNN model with uniform weights\n",
    "\n",
    "pred_uniform = best_knn_uniform.predict(X_test)\n",
    "print(\"=== Uniform Weights Model ===\")\n",
    "print(classification_report(y_test, pred_uniform))\n",
    "print(\"Accuracy (Uniform):\", accuracy_score(y_test, pred_uniform))\n",
    "cm_uniform = confusion_matrix(y_test, pred_uniform)\n",
    "print(\"Confusion Matrix (Uniform):\\n\", cm_uniform)"
   ]
  },
  {
   "cell_type": "code",
   "execution_count": 13,
   "metadata": {},
   "outputs": [
    {
     "name": "stdout",
     "output_type": "stream",
     "text": [
      "\n",
      "=== Distance Weights Model ===\n",
      "              precision    recall  f1-score   support\n",
      "\n",
      "           0       0.95      0.91      0.93        64\n",
      "           1       0.95      0.97      0.96       107\n",
      "\n",
      "    accuracy                           0.95       171\n",
      "   macro avg       0.95      0.94      0.94       171\n",
      "weighted avg       0.95      0.95      0.95       171\n",
      "\n",
      "Accuracy (Distance): 0.9473684210526315\n",
      "Confusion Matrix (Distance):\n",
      " [[ 58   6]\n",
      " [  3 104]]\n"
     ]
    }
   ],
   "source": [
    "# Evaluate the KNN model with distance weights\n",
    "\n",
    "pred_distance = best_knn_distance.predict(X_test)\n",
    "print(\"\\n=== Distance Weights Model ===\")\n",
    "print(classification_report(y_test, pred_distance))\n",
    "print(\"Accuracy (Distance):\", accuracy_score(y_test, pred_distance))\n",
    "cm_distance = confusion_matrix(y_test, pred_distance)\n",
    "print(\"Confusion Matrix (Distance):\\n\", cm_distance)"
   ]
  },
  {
   "cell_type": "markdown",
   "metadata": {},
   "source": [
    "### Analysis of Model Evaluation Results\n",
    "\n",
    "#### **Uniform Weights Model:**\n",
    "\n",
    "##### - **Precision & Recall:**  \n",
    "######  The model achieved a precision of 0.95 for both classes, meaning that when the model predicts a class, it is correct 95% of the time. The recall is 0.91 for class 0 and 0.97 for class 1, indicating that most actual instances of both classes are correctly identified.\n",
    "  \n",
    "##### - **F1-Score:**  \n",
    "######  The F1-scores (0.93 for class 0 and 0.96 for class 1) balance the trade-off between precision and recall, confirming robust performance.\n",
    "  \n",
    "##### - **Confusion Matrix:**  \n",
    "######  The confusion matrix shows 58 true negatives and 104 true positives with only 6 false positives and 3 false negatives. This low error rate underscores the model's reliability.\n",
    "\n",
    "##### - **Overall Accuracy:**  \n",
    "######  An accuracy of approximately 94.7% indicates strong overall classification performance on the test set.\n",
    "\n",
    "##### **Distance Weights Model:**\n",
    "\n",
    "###### - The distance weights model produces identical evaluation metrics and confusion matrix as the uniform weights model:\n",
    "######  - Precision, recall, and F1-scores remain the same.\n",
    "######  - Accuracy is also 94.7%.\n",
    "  \n",
    "##### - **Interpretation:**  \n",
    "######  This similarity suggests that for this particular dataset and with the optimal hyperparameters (3 neighbors using Euclidean distance), the method of weighting (uniform vs. distance) does not significantly affect the model's performance.\n",
    "\n",
    "#### **Key Takeaways:**\n",
    "\n",
    "###### - Both models perform exceptionally well with nearly identical results, confirming the robustness of the chosen hyperparameters.\n",
    "###### - The high precision, recall, and F1-scores across both classes indicate that the classifier is well-balanced and effective.\n",
    "###### - The low number of misclassifications (as shown in the confusion matrices) further validates the model's reliability.\n",
    "\n",
    "##### Overall, these evaluation results demonstrate that the revised KNN models are well-tuned and capable of accurately classifying the data in this context.\n"
   ]
  },
  {
   "cell_type": "markdown",
   "metadata": {},
   "source": [
    "#### 5.1 . Error Rate Analysis for the Uniform Weights Model\n",
    "\n",
    "##### **Changes:**  \n",
    "###### - **Error Rate Plot:** Added a loop to calculate and plot the error rate vs. different k values (from 1 to 30) for the uniform weights model.  \n",
    "###### - **Insight:** This plot helps visualize how the model's error changes with different numbers of neighbors.\n"
   ]
  },
  {
   "cell_type": "code",
   "execution_count": 15,
   "metadata": {},
   "outputs": [],
   "source": [
    "error_rate = []\n",
    "\n",
    "# Calculate error rate for k values from 1 to 30\n",
    "\n",
    "for k in range(1, 31):\n",
    "    knn_temp = KNeighborsClassifier(n_neighbors=k, weights='uniform')\n",
    "    knn_temp.fit(X_train, y_train)\n",
    "    pred_k = knn_temp.predict(X_test)\n",
    "    error_rate.append(np.mean(pred_k != y_test))"
   ]
  },
  {
   "cell_type": "code",
   "execution_count": 16,
   "metadata": {},
   "outputs": [
    {
     "data": {
      "image/png": "[encoded data removed]",
      "text/plain": [
       "<Figure size 1000x600 with 1 Axes>"
      ]
     },
     "metadata": {},
     "output_type": "display_data"
    }
   ],
   "source": [
    "# Plot error rate vs. k values\n",
    "\n",
    "plt.figure(figsize=(10, 6))\n",
    "plt.plot(range(1, 31), error_rate, marker='o', linestyle='dashed', color='red')\n",
    "plt.title(\"Error Rate vs. K Value (Uniform Weights)\")\n",
    "plt.xlabel(\"K Value\")\n",
    "plt.ylabel(\"Error Rate\")\n",
    "plt.show()"
   ]
  },
  {
   "cell_type": "markdown",
   "metadata": {},
   "source": [
    "#### Analysis of Error Rate vs. K Value (Uniform Weights)\n",
    "\n",
    "##### The plot illustrates how the error rate changes as we vary the number of neighbors (k) from 1 to 30 under uniform weighting. Notable observations include:\n",
    "\n",
    "##### - **Lowest Error Region:**  \n",
    "######  The minimum error rate appears around **k=3**, aligning with our hyperparameter tuning results that identified `n_neighbors=3` as optimal.  \n",
    "##### - **Fluctuation with Increasing k:**  \n",
    "######  As k grows larger, the error rate fluctuates between approximately 3.5% and 6.5%. This variation underscores the importance of tuning k rather than arbitrarily choosing a large or small value.  \n",
    "##### - **Trade-off:**  \n",
    "######  A lower k can sometimes lead to overfitting, while a higher k may underfit. The plot highlights that the sweet spot in this dataset is around k=3 or k=4, balancing bias and variance.  \n",
    "##### - **Overall Stability:**  \n",
    "######  Although the error rate varies, it remains relatively low for many k values, suggesting that the model is generally robust across different neighbor counts for this dataset.\n",
    "\n",
    "##### In summary, this analysis confirms that **k=3** offers an excellent balance for the uniform weights KNN classifier on the current dataset.\n"
   ]
  },
  {
   "cell_type": "code",
   "execution_count": 18,
   "metadata": {},
   "outputs": [],
   "source": [
    "#### ROC Curve Analysis for the Best Uniform Model\n",
    "\n",
    "##### **Changes:**  \n",
    "###### - **ROC Curve & AUC:** Introduced ROC curve plotting and AUC calculation to further evaluate the binary classifier's performance on the test set.\n"
   ]
  },
  {
   "cell_type": "code",
   "execution_count": 19,
   "metadata": {},
   "outputs": [],
   "source": [
    "# Compute ROC curve and AUC for the best uniform weights model\n",
    "\n",
    "y_probs = best_knn_uniform.predict_proba(X_test)[:, 1]\n",
    "fpr, tpr, thresholds = roc_curve(y_test, y_probs)\n",
    "roc_auc = auc(fpr, tpr)"
   ]
  },
  {
   "cell_type": "code",
   "execution_count": 20,
   "metadata": {},
   "outputs": [
    {
     "data": {
      "image/png": "[encoded data removed]",
      "text/plain": [
       "<Figure size 800x600 with 1 Axes>"
      ]
     },
     "metadata": {},
     "output_type": "display_data"
    }
   ],
   "source": [
    "# Plot the ROC curve\n",
    "\n",
    "plt.figure(figsize=(8, 6))\n",
    "plt.plot(fpr, tpr, label=f'AUC = {roc_auc:.2f}', color='darkorange')\n",
    "plt.plot([0, 1], [0, 1], linestyle='--', color='gray')\n",
    "plt.xlabel('False Positive Rate')\n",
    "plt.ylabel('True Positive Rate')\n",
    "plt.title('ROC Curve for Best Uniform KNN Model')\n",
    "plt.legend(loc=\"lower right\")\n",
    "plt.show()"
   ]
  },
  {
   "cell_type": "markdown",
   "metadata": {},
   "source": [
    "#### Analysis of ROC Curve for Best Uniform KNN Model\n",
    "\n",
    "###### - **Curve Shape:** The ROC curve rises quickly towards the top-left corner, indicating that the model achieves a high true positive rate with a relatively low false positive rate.\n",
    "###### - **AUC = 0.98:** An Area Under the Curve (AUC) of 0.98 is considered excellent, meaning the model can almost perfectly distinguish between the two classes (benign vs. malignant).\n",
    "###### - **Practical Implication:** In a medical context, a high AUC is crucial for reducing the chance of misdiagnosis, as it implies strong discriminative power.\n",
    "\n",
    "##### Overall, the ROC curve and AUC confirm that the best uniform KNN model provides highly reliable classification for this dataset.\n"
   ]
  },
  {
   "cell_type": "markdown",
   "metadata": {},
   "source": [
    "#### 9. Conclusions & Log of Modifications\n",
    "\n",
    "##### Conclusions\n",
    "\n",
    "##### 1. **High Classification Accuracy:**  \n",
    "######   Both **uniform** and **distance** weighting KNN models achieved an accuracy of approximately **94.7%**, indicating robust performance on the Breast Cancer dataset.\n",
    "\n",
    "##### 2. **Optimal Hyperparameters:**  \n",
    "######   Through `GridSearchCV`, the best configuration for both weighting schemes was found to be **`n_neighbors=3`** and **`p=2`** (Euclidean distance).  \n",
    "######   - The **error rate plot** also confirmed that **k=3** consistently produced low misclassification rates.\n",
    "\n",
    "##### 3. **Strong Discriminative Power (AUC = 0.98):**  \n",
    "######   The **ROC curve** for the best uniform model showed an **AUC of 0.98**, signifying excellent separation between benign and malignant classes.\n",
    "\n",
    "##### 4. **Consistent Results Across Weighting Schemes:**  \n",
    "######   Uniform and distance-based KNN models yielded nearly identical metrics, suggesting that with the chosen hyperparameters, the weighting approach does not drastically affect performance.\n",
    "\n",
    "##### 5. **Low Misclassification:**  \n",
    "######   The confusion matrices highlighted a small number of false positives and false negatives, demonstrating that the model is both sensitive and specific for this dataset.\n",
    "\n",
    "#### Log of Modifications\n",
    "\n",
    "##### 1. **New Dataset:**  \n",
    "######   - **Original Notebook** used a custom “Classified Data” file.  \n",
    "######   - **Revised Notebook** replaced it with the **Breast Cancer Wisconsin dataset** from scikit-learn, providing a well-known real-world classification problem.\n",
    "\n",
    "##### 2. **Data Preparation:**  \n",
    "######   - Retained **standardization** with `StandardScaler`, but applied it to the new dataset’s features.  \n",
    "######   - Employed a **stratified train/test split** to preserve the target class distribution.\n",
    "\n",
    "##### 3. **Modeling & Hyperparameter Tuning:**  \n",
    "######   - **Introduced `GridSearchCV`** for systematic hyperparameter tuning (searching across `n_neighbors` and `p`).  \n",
    "######   - Implemented **two weighting schemes** (`uniform` vs. `distance`) to observe their impact on performance.\n",
    "\n",
    "##### 4. **Evaluation Metrics & Visualization:**  \n",
    "######   - **Classification Report & Confusion Matrix:** Demonstrated strong precision, recall, and F1-scores.  \n",
    "######   - **Error Rate Plot:** Showed that **k=3** yields minimal error.  \n",
    "######   - **ROC Curve & AUC:** Confirmed high discriminative capability (AUC = 0.98).\n",
    "\n",
    "##### By implementing these modifications and documenting each step, the revised notebook demonstrates a deeper theoretical and practical understanding of the KNN algorithm. It also showcases the importance of thorough **data exploration, hyperparameter tuning, and performance evaluation** in producing an effective machine learning model.\n"
   ]
  }
 ],
 "metadata": {
  "kernelspec": {
   "display_name": "Python 3",
   "language": "python",
   "name": "python3"
  },
  "language_info": {
   "codemirror_mode": {
    "name": "ipython",
    "version": 3
   },
   "file_extension": ".py",
   "mimetype": "text/x-python",
   "name": "python",
   "nbconvert_exporter": "python",
   "pygments_lexer": "ipython3",
   "version": "3.13.2"
  }
 },
 "nbformat": 4,
 "nbformat_minor": 2
}
